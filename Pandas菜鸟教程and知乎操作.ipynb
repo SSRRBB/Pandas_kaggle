{
 "cells": [
  {
   "cell_type": "code",
   "execution_count": 5,
   "id": "5acea14a",
   "metadata": {},
   "outputs": [
    {
     "data": {
      "text/plain": [
       "'1.1.3'"
      ]
     },
     "execution_count": 5,
     "metadata": {},
     "output_type": "execute_result"
    }
   ],
   "source": [
    "import numpy as np\n",
    "import pandas as pd\n",
    "pd.__version__  # 查看版本"
   ]
  },
  {
   "cell_type": "markdown",
   "id": "d61dc057",
   "metadata": {},
   "source": [
    "https://www.runoob.com/pandas/pandas-series.html"
   ]
  },
  {
   "cell_type": "markdown",
   "id": "c55d2c7d",
   "metadata": {},
   "source": [
    "## 1. pandas data structure 创建对象\n",
    "\n",
    "### 1.1 pandas.Series( data, index, dtype, name, copy)\n",
    "\n",
    "可以通过传递一个list对象来创建一个Series，pandas 会默认创建整型索引\n",
    "\n",
    "### pd.Series(list)"
   ]
  },
  {
   "cell_type": "code",
   "execution_count": 6,
   "id": "3449fa1f",
   "metadata": {},
   "outputs": [
    {
     "name": "stdout",
     "output_type": "stream",
     "text": [
      "0    1\n",
      "1    2\n",
      "2    3\n",
      "dtype: int64\n"
     ]
    }
   ],
   "source": [
    "a = [1, 2, 3]\n",
    "\n",
    "s = pd.Series(a)\n",
    "\n",
    "print(s)"
   ]
  },
  {
   "cell_type": "code",
   "execution_count": 7,
   "id": "b30fb99d",
   "metadata": {},
   "outputs": [
    {
     "name": "stdout",
     "output_type": "stream",
     "text": [
      "x    Google\n",
      "y    Runoob\n",
      "z      Wiki\n",
      "dtype: object\n",
      "Runoob\n"
     ]
    }
   ],
   "source": [
    "a = [\"Google\", \"Runoob\", \"Wiki\"] #更改index\n",
    "\n",
    "s = pd.Series(a, index = [\"x\", \"y\", \"z\"])\n",
    "\n",
    "print(s)\n",
    "print(s['y'])"
   ]
  },
  {
   "cell_type": "code",
   "execution_count": 8,
   "id": "89179821",
   "metadata": {},
   "outputs": [
    {
     "name": "stdout",
     "output_type": "stream",
     "text": [
      "1    Google\n",
      "2    Runoob\n",
      "dtype: object\n"
     ]
    }
   ],
   "source": [
    "sites = {1: \"Google\", 2: \"Runoob\", 3: \"Wiki\"} #使用字典创建\n",
    "\n",
    "myvar = pd.Series(sites, index = [1, 2])\n",
    "\n",
    "print(myvar)"
   ]
  },
  {
   "cell_type": "markdown",
   "id": "594c2ca6",
   "metadata": {},
   "source": [
    "### 1.2 pandas.DataFrame( data, index, columns, dtype, copy)\n",
    "\n",
    "通过传递一个 numpyarray，时间索引以及列标签来创建一个DataFrame：\n"
   ]
  },
  {
   "cell_type": "code",
   "execution_count": 9,
   "id": "ffb21fa9",
   "metadata": {},
   "outputs": [
    {
     "name": "stdout",
     "output_type": "stream",
     "text": [
      "     Site   Age\n",
      "0  Google  10.0\n",
      "1  Runoob  12.0\n",
      "2    Wiki  13.0\n"
     ]
    }
   ],
   "source": [
    "data = [['Google',10],['Runoob',12],['Wiki',13]] ##使用列表创建\n",
    "\n",
    "df = pd.DataFrame(data, columns = ['Site','Age'], dtype=float)\n",
    "\n",
    "print(df)"
   ]
  },
  {
   "cell_type": "code",
   "execution_count": 10,
   "id": "b2afcdd0",
   "metadata": {},
   "outputs": [
    {
     "name": "stdout",
     "output_type": "stream",
     "text": [
      "     Site  Age\n",
      "0  Google   10\n",
      "1  Runoob   12\n",
      "2    Wiki   13\n"
     ]
    }
   ],
   "source": [
    "data = {'Site':['Google', 'Runoob', 'Wiki'], 'Age':[10, 12, 13]} #使用ndarary创建\n",
    "\n",
    "df = pd.DataFrame(data)\n",
    "\n",
    "print (df)"
   ]
  },
  {
   "cell_type": "code",
   "execution_count": 11,
   "id": "2d57e160",
   "metadata": {},
   "outputs": [
    {
     "name": "stdout",
     "output_type": "stream",
     "text": [
      "   a   b     c\n",
      "0  1   2   NaN\n",
      "1  5  10  20.0\n"
     ]
    }
   ],
   "source": [
    "data = [{'a': 1, 'b': 2},{'a': 5, 'b': 10, 'c': 20}] #使用字典创建\n",
    "\n",
    "df = pd.DataFrame(data)\n",
    "\n",
    "print (df)"
   ]
  },
  {
   "cell_type": "markdown",
   "id": "9138a11e",
   "metadata": {},
   "source": [
    "## 2. Pandas CSV 文件"
   ]
  },
  {
   "cell_type": "code",
   "execution_count": 12,
   "id": "ed324a07",
   "metadata": {
    "scrolled": true
   },
   "outputs": [
    {
     "name": "stdout",
     "output_type": "stream",
     "text": [
      "              Name            Team  Number Position   Age Height  Weight  \\\n",
      "0    Avery Bradley  Boston Celtics     0.0       PG  25.0    6-2   180.0   \n",
      "1      Jae Crowder  Boston Celtics    99.0       SF  25.0    6-6   235.0   \n",
      "2     John Holland  Boston Celtics    30.0       SG  27.0    6-5   205.0   \n",
      "3      R.J. Hunter  Boston Celtics    28.0       SG  22.0    6-5   185.0   \n",
      "4    Jonas Jerebko  Boston Celtics     8.0       PF  29.0   6-10   231.0   \n",
      "..             ...             ...     ...      ...   ...    ...     ...   \n",
      "453   Shelvin Mack       Utah Jazz     8.0       PG  26.0    6-3   203.0   \n",
      "454      Raul Neto       Utah Jazz    25.0       PG  24.0    6-1   179.0   \n",
      "455   Tibor Pleiss       Utah Jazz    21.0        C  26.0    7-3   256.0   \n",
      "456    Jeff Withey       Utah Jazz    24.0        C  26.0    7-0   231.0   \n",
      "457            NaN             NaN     NaN      NaN   NaN    NaN     NaN   \n",
      "\n",
      "               College     Salary  \n",
      "0                Texas  7730337.0  \n",
      "1            Marquette  6796117.0  \n",
      "2    Boston University        NaN  \n",
      "3        Georgia State  1148640.0  \n",
      "4                  NaN  5000000.0  \n",
      "..                 ...        ...  \n",
      "453             Butler  2433333.0  \n",
      "454                NaN   900000.0  \n",
      "455                NaN  2900000.0  \n",
      "456             Kansas   947276.0  \n",
      "457                NaN        NaN  \n",
      "\n",
      "[458 rows x 9 columns]\n"
     ]
    }
   ],
   "source": [
    "df = pd.read_csv('nba.csv')\n",
    "\n",
    "print(df)"
   ]
  },
  {
   "cell_type": "markdown",
   "id": "beba61ee",
   "metadata": {},
   "source": [
    "#### 我们也可以使用 to_csv() 方法将 DataFrame 存储为 csv 文件："
   ]
  },
  {
   "cell_type": "code",
   "execution_count": 13,
   "id": "592f0504",
   "metadata": {},
   "outputs": [],
   "source": [
    "   \n",
    "# # 三个字段 name, site, age\n",
    "# nme = [\"Google\", \"Runoob\", \"Taobao\", \"Wiki\"]\n",
    "# st = [\"www.google.com\", \"www.runoob.com\", \"www.taobao.com\", \"www.wikipedia.org\"]\n",
    "# ag = [90, 40, 80, 98]\n",
    "   \n",
    "# # 字典\n",
    "# dict = {'name': nme, 'site': st, 'age': ag}\n",
    "     \n",
    "# df = pd.DataFrame(dict)\n",
    " \n",
    "# # 保存 dataframe\n",
    "# df.to_csv('site.csv')\n",
    "\n",
    "# df2 = pd.read_csv('site.csv')\n",
    "# print(df2)"
   ]
  },
  {
   "cell_type": "markdown",
   "id": "b1fd3d8b",
   "metadata": {},
   "source": [
    "### 数据处理"
   ]
  },
  {
   "cell_type": "code",
   "execution_count": 14,
   "id": "d82165d6",
   "metadata": {},
   "outputs": [
    {
     "data": {
      "text/html": [
       "<div>\n",
       "<style scoped>\n",
       "    .dataframe tbody tr th:only-of-type {\n",
       "        vertical-align: middle;\n",
       "    }\n",
       "\n",
       "    .dataframe tbody tr th {\n",
       "        vertical-align: top;\n",
       "    }\n",
       "\n",
       "    .dataframe thead th {\n",
       "        text-align: right;\n",
       "    }\n",
       "</style>\n",
       "<table border=\"1\" class=\"dataframe\">\n",
       "  <thead>\n",
       "    <tr style=\"text-align: right;\">\n",
       "      <th></th>\n",
       "      <th>Name</th>\n",
       "      <th>Team</th>\n",
       "      <th>Number</th>\n",
       "      <th>Position</th>\n",
       "      <th>Age</th>\n",
       "      <th>Height</th>\n",
       "      <th>Weight</th>\n",
       "      <th>College</th>\n",
       "      <th>Salary</th>\n",
       "    </tr>\n",
       "  </thead>\n",
       "  <tbody>\n",
       "    <tr>\n",
       "      <th>0</th>\n",
       "      <td>Avery Bradley</td>\n",
       "      <td>Boston Celtics</td>\n",
       "      <td>0.0</td>\n",
       "      <td>PG</td>\n",
       "      <td>25.0</td>\n",
       "      <td>6-2</td>\n",
       "      <td>180.0</td>\n",
       "      <td>Texas</td>\n",
       "      <td>7730337.0</td>\n",
       "    </tr>\n",
       "    <tr>\n",
       "      <th>1</th>\n",
       "      <td>Jae Crowder</td>\n",
       "      <td>Boston Celtics</td>\n",
       "      <td>99.0</td>\n",
       "      <td>SF</td>\n",
       "      <td>25.0</td>\n",
       "      <td>6-6</td>\n",
       "      <td>235.0</td>\n",
       "      <td>Marquette</td>\n",
       "      <td>6796117.0</td>\n",
       "    </tr>\n",
       "    <tr>\n",
       "      <th>2</th>\n",
       "      <td>John Holland</td>\n",
       "      <td>Boston Celtics</td>\n",
       "      <td>30.0</td>\n",
       "      <td>SG</td>\n",
       "      <td>27.0</td>\n",
       "      <td>6-5</td>\n",
       "      <td>205.0</td>\n",
       "      <td>Boston University</td>\n",
       "      <td>NaN</td>\n",
       "    </tr>\n",
       "    <tr>\n",
       "      <th>3</th>\n",
       "      <td>R.J. Hunter</td>\n",
       "      <td>Boston Celtics</td>\n",
       "      <td>28.0</td>\n",
       "      <td>SG</td>\n",
       "      <td>22.0</td>\n",
       "      <td>6-5</td>\n",
       "      <td>185.0</td>\n",
       "      <td>Georgia State</td>\n",
       "      <td>1148640.0</td>\n",
       "    </tr>\n",
       "    <tr>\n",
       "      <th>4</th>\n",
       "      <td>Jonas Jerebko</td>\n",
       "      <td>Boston Celtics</td>\n",
       "      <td>8.0</td>\n",
       "      <td>PF</td>\n",
       "      <td>29.0</td>\n",
       "      <td>6-10</td>\n",
       "      <td>231.0</td>\n",
       "      <td>NaN</td>\n",
       "      <td>5000000.0</td>\n",
       "    </tr>\n",
       "  </tbody>\n",
       "</table>\n",
       "</div>"
      ],
      "text/plain": [
       "            Name            Team  Number Position   Age Height  Weight  \\\n",
       "0  Avery Bradley  Boston Celtics     0.0       PG  25.0    6-2   180.0   \n",
       "1    Jae Crowder  Boston Celtics    99.0       SF  25.0    6-6   235.0   \n",
       "2   John Holland  Boston Celtics    30.0       SG  27.0    6-5   205.0   \n",
       "3    R.J. Hunter  Boston Celtics    28.0       SG  22.0    6-5   185.0   \n",
       "4  Jonas Jerebko  Boston Celtics     8.0       PF  29.0   6-10   231.0   \n",
       "\n",
       "             College     Salary  \n",
       "0              Texas  7730337.0  \n",
       "1          Marquette  6796117.0  \n",
       "2  Boston University        NaN  \n",
       "3      Georgia State  1148640.0  \n",
       "4                NaN  5000000.0  "
      ]
     },
     "execution_count": 14,
     "metadata": {},
     "output_type": "execute_result"
    }
   ],
   "source": [
    "df.head()"
   ]
  },
  {
   "cell_type": "code",
   "execution_count": 15,
   "id": "59ccfe4f",
   "metadata": {
    "scrolled": true
   },
   "outputs": [
    {
     "data": {
      "text/html": [
       "<div>\n",
       "<style scoped>\n",
       "    .dataframe tbody tr th:only-of-type {\n",
       "        vertical-align: middle;\n",
       "    }\n",
       "\n",
       "    .dataframe tbody tr th {\n",
       "        vertical-align: top;\n",
       "    }\n",
       "\n",
       "    .dataframe thead th {\n",
       "        text-align: right;\n",
       "    }\n",
       "</style>\n",
       "<table border=\"1\" class=\"dataframe\">\n",
       "  <thead>\n",
       "    <tr style=\"text-align: right;\">\n",
       "      <th></th>\n",
       "      <th>Name</th>\n",
       "      <th>Team</th>\n",
       "      <th>Number</th>\n",
       "      <th>Position</th>\n",
       "      <th>Age</th>\n",
       "      <th>Height</th>\n",
       "      <th>Weight</th>\n",
       "      <th>College</th>\n",
       "      <th>Salary</th>\n",
       "    </tr>\n",
       "  </thead>\n",
       "  <tbody>\n",
       "    <tr>\n",
       "      <th>0</th>\n",
       "      <td>Avery Bradley</td>\n",
       "      <td>Boston Celtics</td>\n",
       "      <td>0.0</td>\n",
       "      <td>PG</td>\n",
       "      <td>25.0</td>\n",
       "      <td>6-2</td>\n",
       "      <td>180.0</td>\n",
       "      <td>Texas</td>\n",
       "      <td>7730337.0</td>\n",
       "    </tr>\n",
       "    <tr>\n",
       "      <th>1</th>\n",
       "      <td>Jae Crowder</td>\n",
       "      <td>Boston Celtics</td>\n",
       "      <td>99.0</td>\n",
       "      <td>SF</td>\n",
       "      <td>25.0</td>\n",
       "      <td>6-6</td>\n",
       "      <td>235.0</td>\n",
       "      <td>Marquette</td>\n",
       "      <td>6796117.0</td>\n",
       "    </tr>\n",
       "    <tr>\n",
       "      <th>2</th>\n",
       "      <td>John Holland</td>\n",
       "      <td>Boston Celtics</td>\n",
       "      <td>30.0</td>\n",
       "      <td>SG</td>\n",
       "      <td>27.0</td>\n",
       "      <td>6-5</td>\n",
       "      <td>205.0</td>\n",
       "      <td>Boston University</td>\n",
       "      <td>NaN</td>\n",
       "    </tr>\n",
       "    <tr>\n",
       "      <th>3</th>\n",
       "      <td>R.J. Hunter</td>\n",
       "      <td>Boston Celtics</td>\n",
       "      <td>28.0</td>\n",
       "      <td>SG</td>\n",
       "      <td>22.0</td>\n",
       "      <td>6-5</td>\n",
       "      <td>185.0</td>\n",
       "      <td>Georgia State</td>\n",
       "      <td>1148640.0</td>\n",
       "    </tr>\n",
       "    <tr>\n",
       "      <th>4</th>\n",
       "      <td>Jonas Jerebko</td>\n",
       "      <td>Boston Celtics</td>\n",
       "      <td>8.0</td>\n",
       "      <td>PF</td>\n",
       "      <td>29.0</td>\n",
       "      <td>6-10</td>\n",
       "      <td>231.0</td>\n",
       "      <td>NaN</td>\n",
       "      <td>5000000.0</td>\n",
       "    </tr>\n",
       "    <tr>\n",
       "      <th>5</th>\n",
       "      <td>Amir Johnson</td>\n",
       "      <td>Boston Celtics</td>\n",
       "      <td>90.0</td>\n",
       "      <td>PF</td>\n",
       "      <td>29.0</td>\n",
       "      <td>6-9</td>\n",
       "      <td>240.0</td>\n",
       "      <td>NaN</td>\n",
       "      <td>12000000.0</td>\n",
       "    </tr>\n",
       "    <tr>\n",
       "      <th>6</th>\n",
       "      <td>Jordan Mickey</td>\n",
       "      <td>Boston Celtics</td>\n",
       "      <td>55.0</td>\n",
       "      <td>PF</td>\n",
       "      <td>21.0</td>\n",
       "      <td>6-8</td>\n",
       "      <td>235.0</td>\n",
       "      <td>LSU</td>\n",
       "      <td>1170960.0</td>\n",
       "    </tr>\n",
       "    <tr>\n",
       "      <th>7</th>\n",
       "      <td>Kelly Olynyk</td>\n",
       "      <td>Boston Celtics</td>\n",
       "      <td>41.0</td>\n",
       "      <td>C</td>\n",
       "      <td>25.0</td>\n",
       "      <td>7-0</td>\n",
       "      <td>238.0</td>\n",
       "      <td>Gonzaga</td>\n",
       "      <td>2165160.0</td>\n",
       "    </tr>\n",
       "    <tr>\n",
       "      <th>8</th>\n",
       "      <td>Terry Rozier</td>\n",
       "      <td>Boston Celtics</td>\n",
       "      <td>12.0</td>\n",
       "      <td>PG</td>\n",
       "      <td>22.0</td>\n",
       "      <td>6-2</td>\n",
       "      <td>190.0</td>\n",
       "      <td>Louisville</td>\n",
       "      <td>1824360.0</td>\n",
       "    </tr>\n",
       "    <tr>\n",
       "      <th>9</th>\n",
       "      <td>Marcus Smart</td>\n",
       "      <td>Boston Celtics</td>\n",
       "      <td>36.0</td>\n",
       "      <td>PG</td>\n",
       "      <td>22.0</td>\n",
       "      <td>6-4</td>\n",
       "      <td>220.0</td>\n",
       "      <td>Oklahoma State</td>\n",
       "      <td>3431040.0</td>\n",
       "    </tr>\n",
       "  </tbody>\n",
       "</table>\n",
       "</div>"
      ],
      "text/plain": [
       "            Name            Team  Number Position   Age Height  Weight  \\\n",
       "0  Avery Bradley  Boston Celtics     0.0       PG  25.0    6-2   180.0   \n",
       "1    Jae Crowder  Boston Celtics    99.0       SF  25.0    6-6   235.0   \n",
       "2   John Holland  Boston Celtics    30.0       SG  27.0    6-5   205.0   \n",
       "3    R.J. Hunter  Boston Celtics    28.0       SG  22.0    6-5   185.0   \n",
       "4  Jonas Jerebko  Boston Celtics     8.0       PF  29.0   6-10   231.0   \n",
       "5   Amir Johnson  Boston Celtics    90.0       PF  29.0    6-9   240.0   \n",
       "6  Jordan Mickey  Boston Celtics    55.0       PF  21.0    6-8   235.0   \n",
       "7   Kelly Olynyk  Boston Celtics    41.0        C  25.0    7-0   238.0   \n",
       "8   Terry Rozier  Boston Celtics    12.0       PG  22.0    6-2   190.0   \n",
       "9   Marcus Smart  Boston Celtics    36.0       PG  22.0    6-4   220.0   \n",
       "\n",
       "             College      Salary  \n",
       "0              Texas   7730337.0  \n",
       "1          Marquette   6796117.0  \n",
       "2  Boston University         NaN  \n",
       "3      Georgia State   1148640.0  \n",
       "4                NaN   5000000.0  \n",
       "5                NaN  12000000.0  \n",
       "6                LSU   1170960.0  \n",
       "7            Gonzaga   2165160.0  \n",
       "8         Louisville   1824360.0  \n",
       "9     Oklahoma State   3431040.0  "
      ]
     },
     "execution_count": 15,
     "metadata": {},
     "output_type": "execute_result"
    }
   ],
   "source": [
    "df.head(10)"
   ]
  },
  {
   "cell_type": "code",
   "execution_count": 16,
   "id": "7bd8b551",
   "metadata": {},
   "outputs": [
    {
     "data": {
      "text/html": [
       "<div>\n",
       "<style scoped>\n",
       "    .dataframe tbody tr th:only-of-type {\n",
       "        vertical-align: middle;\n",
       "    }\n",
       "\n",
       "    .dataframe tbody tr th {\n",
       "        vertical-align: top;\n",
       "    }\n",
       "\n",
       "    .dataframe thead th {\n",
       "        text-align: right;\n",
       "    }\n",
       "</style>\n",
       "<table border=\"1\" class=\"dataframe\">\n",
       "  <thead>\n",
       "    <tr style=\"text-align: right;\">\n",
       "      <th></th>\n",
       "      <th>Name</th>\n",
       "      <th>Team</th>\n",
       "      <th>Number</th>\n",
       "      <th>Position</th>\n",
       "      <th>Age</th>\n",
       "      <th>Height</th>\n",
       "      <th>Weight</th>\n",
       "      <th>College</th>\n",
       "      <th>Salary</th>\n",
       "    </tr>\n",
       "  </thead>\n",
       "  <tbody>\n",
       "    <tr>\n",
       "      <th>453</th>\n",
       "      <td>Shelvin Mack</td>\n",
       "      <td>Utah Jazz</td>\n",
       "      <td>8.0</td>\n",
       "      <td>PG</td>\n",
       "      <td>26.0</td>\n",
       "      <td>6-3</td>\n",
       "      <td>203.0</td>\n",
       "      <td>Butler</td>\n",
       "      <td>2433333.0</td>\n",
       "    </tr>\n",
       "    <tr>\n",
       "      <th>454</th>\n",
       "      <td>Raul Neto</td>\n",
       "      <td>Utah Jazz</td>\n",
       "      <td>25.0</td>\n",
       "      <td>PG</td>\n",
       "      <td>24.0</td>\n",
       "      <td>6-1</td>\n",
       "      <td>179.0</td>\n",
       "      <td>NaN</td>\n",
       "      <td>900000.0</td>\n",
       "    </tr>\n",
       "    <tr>\n",
       "      <th>455</th>\n",
       "      <td>Tibor Pleiss</td>\n",
       "      <td>Utah Jazz</td>\n",
       "      <td>21.0</td>\n",
       "      <td>C</td>\n",
       "      <td>26.0</td>\n",
       "      <td>7-3</td>\n",
       "      <td>256.0</td>\n",
       "      <td>NaN</td>\n",
       "      <td>2900000.0</td>\n",
       "    </tr>\n",
       "    <tr>\n",
       "      <th>456</th>\n",
       "      <td>Jeff Withey</td>\n",
       "      <td>Utah Jazz</td>\n",
       "      <td>24.0</td>\n",
       "      <td>C</td>\n",
       "      <td>26.0</td>\n",
       "      <td>7-0</td>\n",
       "      <td>231.0</td>\n",
       "      <td>Kansas</td>\n",
       "      <td>947276.0</td>\n",
       "    </tr>\n",
       "    <tr>\n",
       "      <th>457</th>\n",
       "      <td>NaN</td>\n",
       "      <td>NaN</td>\n",
       "      <td>NaN</td>\n",
       "      <td>NaN</td>\n",
       "      <td>NaN</td>\n",
       "      <td>NaN</td>\n",
       "      <td>NaN</td>\n",
       "      <td>NaN</td>\n",
       "      <td>NaN</td>\n",
       "    </tr>\n",
       "  </tbody>\n",
       "</table>\n",
       "</div>"
      ],
      "text/plain": [
       "             Name       Team  Number Position   Age Height  Weight College  \\\n",
       "453  Shelvin Mack  Utah Jazz     8.0       PG  26.0    6-3   203.0  Butler   \n",
       "454     Raul Neto  Utah Jazz    25.0       PG  24.0    6-1   179.0     NaN   \n",
       "455  Tibor Pleiss  Utah Jazz    21.0        C  26.0    7-3   256.0     NaN   \n",
       "456   Jeff Withey  Utah Jazz    24.0        C  26.0    7-0   231.0  Kansas   \n",
       "457           NaN        NaN     NaN      NaN   NaN    NaN     NaN     NaN   \n",
       "\n",
       "        Salary  \n",
       "453  2433333.0  \n",
       "454   900000.0  \n",
       "455  2900000.0  \n",
       "456   947276.0  \n",
       "457        NaN  "
      ]
     },
     "execution_count": 16,
     "metadata": {},
     "output_type": "execute_result"
    }
   ],
   "source": [
    "df.tail()"
   ]
  },
  {
   "cell_type": "code",
   "execution_count": 17,
   "id": "ec83e8b2",
   "metadata": {
    "scrolled": true
   },
   "outputs": [
    {
     "name": "stdout",
     "output_type": "stream",
     "text": [
      "<class 'pandas.core.frame.DataFrame'>\n",
      "RangeIndex: 458 entries, 0 to 457\n",
      "Data columns (total 9 columns):\n",
      " #   Column    Non-Null Count  Dtype  \n",
      "---  ------    --------------  -----  \n",
      " 0   Name      457 non-null    object \n",
      " 1   Team      457 non-null    object \n",
      " 2   Number    457 non-null    float64\n",
      " 3   Position  457 non-null    object \n",
      " 4   Age       457 non-null    float64\n",
      " 5   Height    457 non-null    object \n",
      " 6   Weight    457 non-null    float64\n",
      " 7   College   373 non-null    object \n",
      " 8   Salary    446 non-null    float64\n",
      "dtypes: float64(4), object(5)\n",
      "memory usage: 32.3+ KB\n"
     ]
    }
   ],
   "source": [
    "df.info()"
   ]
  },
  {
   "cell_type": "markdown",
   "id": "de913ece",
   "metadata": {},
   "source": [
    "# Pandas 常用操作\n",
    "\n",
    "## 1. 数据处理三板斧——map、apply、applymap详解 https://zhuanlan.zhihu.com/p/100064394\n",
    " \n",
    "## 2. Pandas数据分析——超好用的Groupby详解 https://zhuanlan.zhihu.com/p/101284491\n",
    "\n",
    "## 3. Pandas教程 | Merge数据合并图文详解 https://zhuanlan.zhihu.com/p/102274476\n",
    "\n",
    "## 3(后). Pandas数据处理——玩转时间序列数据 https://zhuanlan.zhihu.com/p/106675563\n",
    "\n",
    "## 4. Pandas数据处理——盘点那些常用的函数（上）https://zhuanlan.zhihu.com/p/106722583\n",
    "\n",
    "## 5. Pandas数据处理——盘点那些常用的函数（下）https://zhuanlan.zhihu.com/p/106724730\n",
    "\n",
    "## 6(后). 天秀！Pandas还能用来写爬虫？https://zhuanlan.zhihu.com/p/122361747\n",
    "\n",
    "## 7(后). 提高数据的颜值！一起看看Pandas中的那些Style https://zhuanlan.zhihu.com/p/126223075\n",
    "\n",
    "## 8(后). 提速百倍的Pandas性能优化方法，让你的Pandas飞起来！https://zhuanlan.zhihu.com/p/97012199\n"
   ]
  },
  {
   "cell_type": "markdown",
   "id": "7342eef6",
   "metadata": {},
   "source": [
    "## 1. 数据处理三板斧——map、apply、applymap详解 https://zhuanlan.zhihu.com/p/100064394"
   ]
  },
  {
   "cell_type": "code",
   "execution_count": 64,
   "id": "33b38a80",
   "metadata": {
    "scrolled": false
   },
   "outputs": [
    {
     "name": "stdout",
     "output_type": "stream",
     "text": [
      "    height  weight  smoker  gender  age   color\n",
      "0      152      48    True  female   45   black\n",
      "1      186      78   False    male   33   white\n",
      "2      167      84   False  female   57   black\n",
      "3      182      63    True    male   31   black\n",
      "4      158      66   False    male   43   white\n",
      "..     ...     ...     ...     ...  ...     ...\n",
      "95     167      81    True    male   79   white\n",
      "96     153      75    True  female   26  yellow\n",
      "97     151      79    True    male   63   black\n",
      "98     162      40   False    male   27  yellow\n",
      "99     180      65   False  female   71  yellow\n",
      "\n",
      "[100 rows x 6 columns]\n"
     ]
    }
   ],
   "source": [
    "boolean=[True,False]\n",
    "gender=[\"male\",\"female\"]\n",
    "color=[\"white\",\"black\",\"yellow\"]\n",
    "data=pd.DataFrame({\n",
    "    \"height\":np.random.randint(150,190,100),\n",
    "    \"weight\":np.random.randint(40,90,100),\n",
    "    \"smoker\":[boolean[x] for x in np.random.randint(0,2,100)],\n",
    "    \"gender\":[gender[x] for x in np.random.randint(0,2,100)],\n",
    "    \"age\":np.random.randint(15,90,100),\n",
    "    \"color\":[color[x] for x in np.random.randint(0,len(color),100) ]\n",
    "}\n",
    ")\n",
    "print(data)"
   ]
  },
  {
   "cell_type": "markdown",
   "id": "961244b0",
   "metadata": {},
   "source": [
    "## 1.1  map用法"
   ]
  },
  {
   "cell_type": "code",
   "execution_count": 65,
   "id": "d54d17ee",
   "metadata": {},
   "outputs": [
    {
     "name": "stdout",
     "output_type": "stream",
     "text": [
      "    height  weight  smoker  gender  age   color\n",
      "0      152      48    True       0   45   black\n",
      "1      186      78   False       1   33   white\n",
      "2      167      84   False       0   57   black\n",
      "3      182      63    True       1   31   black\n",
      "4      158      66   False       1   43   white\n",
      "..     ...     ...     ...     ...  ...     ...\n",
      "95     167      81    True       1   79   white\n",
      "96     153      75    True       0   26  yellow\n",
      "97     151      79    True       1   63   black\n",
      "98     162      40   False       1   27  yellow\n",
      "99     180      65   False       0   71  yellow\n",
      "\n",
      "[100 rows x 6 columns]\n"
     ]
    }
   ],
   "source": [
    "#①使用字典进行映射\n",
    "data[\"gender\"] = data[\"gender\"].map({\"male\": 1, \"female\":0})\n",
    "\n",
    "# #②使用函数\n",
    "# def gender_map(x):\n",
    "#     gender = 1 if x == \"male\" else 0\n",
    "#     return gender\n",
    "# #注意这里传入的是函数名，不带括号\n",
    "# data[\"gender\"] = data[\"gender\"].map(gender_map)\n",
    "\n",
    "print(data)"
   ]
  },
  {
   "cell_type": "markdown",
   "id": "58bb156d",
   "metadata": {},
   "source": [
    "## 1.2 apply用法"
   ]
  },
  {
   "cell_type": "markdown",
   "id": "0920ac2f",
   "metadata": {},
   "source": [
    "axis=0代表操作对列columns进行，axis=1代表操作对行row进行"
   ]
  },
  {
   "cell_type": "code",
   "execution_count": 66,
   "id": "e6fcf7df",
   "metadata": {},
   "outputs": [
    {
     "data": {
      "text/plain": [
       "height    16923\n",
       "weight     6467\n",
       "age        4931\n",
       "dtype: int64"
      ]
     },
     "execution_count": 66,
     "metadata": {},
     "output_type": "execute_result"
    }
   ],
   "source": [
    "#沿着0轴求和\n",
    "data[[\"height\",\"weight\",\"age\"]].apply(np.sum, axis=0)\n",
    "\n",
    "# # 沿着0轴取对数\n",
    "# data[[\"height\",\"weight\",\"age\"]].apply(np.log, axis=0)"
   ]
  },
  {
   "cell_type": "code",
   "execution_count": 67,
   "id": "8b512edf",
   "metadata": {},
   "outputs": [
    {
     "name": "stdout",
     "output_type": "stream",
     "text": [
      "    height  weight  smoker  gender  age   color\n",
      "0      152      48    True       0   45   black\n",
      "1      186      78   False       1   33   white\n",
      "2      167      84   False       0   57   black\n",
      "3      182      63    True       1   31   black\n",
      "4      158      66   False       1   43   white\n",
      "..     ...     ...     ...     ...  ...     ...\n",
      "95     167      81    True       1   79   white\n",
      "96     153      75    True       0   26  yellow\n",
      "97     151      79    True       1   63   black\n",
      "98     162      40   False       1   27  yellow\n",
      "99     180      65   False       0   71  yellow\n",
      "\n",
      "[100 rows x 6 columns]\n"
     ]
    }
   ],
   "source": [
    "print(data)"
   ]
  },
  {
   "cell_type": "code",
   "execution_count": 68,
   "id": "1569d007",
   "metadata": {},
   "outputs": [
    {
     "name": "stdout",
     "output_type": "stream",
     "text": [
      "    height  weight  smoker  gender  age   color        BMI\n",
      "0      152      48    True       0   45   black  20.775623\n",
      "1      186      78   False       1   33   white  22.545959\n",
      "2      167      84   False       0   57   black  30.119402\n",
      "3      182      63    True       1   31   black  19.019442\n",
      "4      158      66   False       1   43   white  26.438071\n",
      "..     ...     ...     ...     ...  ...     ...        ...\n",
      "95     167      81    True       1   79   white  29.043709\n",
      "96     153      75    True       0   26  yellow  32.038959\n",
      "97     151      79    True       1   63   black  34.647603\n",
      "98     162      40   False       1   27  yellow  15.241579\n",
      "99     180      65   False       0   71  yellow  20.061728\n",
      "\n",
      "[100 rows x 7 columns]\n"
     ]
    }
   ],
   "source": [
    "def BMI(series):\n",
    "    weight = series[\"weight\"]\n",
    "    height = series[\"height\"]/100\n",
    "    BMI = weight/height**2\n",
    "    return BMI\n",
    "\n",
    "data[\"BMI\"] = data.apply(BMI,axis=1)\n",
    "print(data)"
   ]
  },
  {
   "cell_type": "markdown",
   "id": "6c05d0ff",
   "metadata": {},
   "source": [
    "## 1.3 applymap"
   ]
  },
  {
   "cell_type": "code",
   "execution_count": 69,
   "id": "63818369",
   "metadata": {},
   "outputs": [
    {
     "data": {
      "text/html": [
       "<div>\n",
       "<style scoped>\n",
       "    .dataframe tbody tr th:only-of-type {\n",
       "        vertical-align: middle;\n",
       "    }\n",
       "\n",
       "    .dataframe tbody tr th {\n",
       "        vertical-align: top;\n",
       "    }\n",
       "\n",
       "    .dataframe thead th {\n",
       "        text-align: right;\n",
       "    }\n",
       "</style>\n",
       "<table border=\"1\" class=\"dataframe\">\n",
       "  <thead>\n",
       "    <tr style=\"text-align: right;\">\n",
       "      <th></th>\n",
       "      <th>A</th>\n",
       "      <th>B</th>\n",
       "      <th>C</th>\n",
       "      <th>D</th>\n",
       "      <th>E</th>\n",
       "    </tr>\n",
       "  </thead>\n",
       "  <tbody>\n",
       "    <tr>\n",
       "      <th>0</th>\n",
       "      <td>-0.193753</td>\n",
       "      <td>-1.135503</td>\n",
       "      <td>-0.721785</td>\n",
       "      <td>0.729168</td>\n",
       "      <td>1.581497</td>\n",
       "    </tr>\n",
       "    <tr>\n",
       "      <th>1</th>\n",
       "      <td>-0.020498</td>\n",
       "      <td>-0.438857</td>\n",
       "      <td>1.308807</td>\n",
       "      <td>-0.283788</td>\n",
       "      <td>0.395601</td>\n",
       "    </tr>\n",
       "    <tr>\n",
       "      <th>2</th>\n",
       "      <td>-0.100556</td>\n",
       "      <td>0.621179</td>\n",
       "      <td>-0.308484</td>\n",
       "      <td>1.472416</td>\n",
       "      <td>0.376889</td>\n",
       "    </tr>\n",
       "    <tr>\n",
       "      <th>3</th>\n",
       "      <td>0.433075</td>\n",
       "      <td>0.632282</td>\n",
       "      <td>0.948649</td>\n",
       "      <td>0.306890</td>\n",
       "      <td>-0.319217</td>\n",
       "    </tr>\n",
       "    <tr>\n",
       "      <th>4</th>\n",
       "      <td>-0.702264</td>\n",
       "      <td>-0.140370</td>\n",
       "      <td>-0.848492</td>\n",
       "      <td>-0.923930</td>\n",
       "      <td>0.240187</td>\n",
       "    </tr>\n",
       "  </tbody>\n",
       "</table>\n",
       "</div>"
      ],
      "text/plain": [
       "          A         B         C         D         E\n",
       "0 -0.193753 -1.135503 -0.721785  0.729168  1.581497\n",
       "1 -0.020498 -0.438857  1.308807 -0.283788  0.395601\n",
       "2 -0.100556  0.621179 -0.308484  1.472416  0.376889\n",
       "3  0.433075  0.632282  0.948649  0.306890 -0.319217\n",
       "4 -0.702264 -0.140370 -0.848492 -0.923930  0.240187"
      ]
     },
     "execution_count": 69,
     "metadata": {},
     "output_type": "execute_result"
    }
   ],
   "source": [
    "df = pd.DataFrame(\n",
    "    {\n",
    "        \"A\":np.random.randn(5),\n",
    "        \"B\":np.random.randn(5),\n",
    "        \"C\":np.random.randn(5),\n",
    "        \"D\":np.random.randn(5),\n",
    "        \"E\":np.random.randn(5),\n",
    "    }\n",
    ")\n",
    "df"
   ]
  },
  {
   "cell_type": "code",
   "execution_count": 70,
   "id": "ce09796e",
   "metadata": {},
   "outputs": [
    {
     "data": {
      "text/html": [
       "<div>\n",
       "<style scoped>\n",
       "    .dataframe tbody tr th:only-of-type {\n",
       "        vertical-align: middle;\n",
       "    }\n",
       "\n",
       "    .dataframe tbody tr th {\n",
       "        vertical-align: top;\n",
       "    }\n",
       "\n",
       "    .dataframe thead th {\n",
       "        text-align: right;\n",
       "    }\n",
       "</style>\n",
       "<table border=\"1\" class=\"dataframe\">\n",
       "  <thead>\n",
       "    <tr style=\"text-align: right;\">\n",
       "      <th></th>\n",
       "      <th>A</th>\n",
       "      <th>B</th>\n",
       "      <th>C</th>\n",
       "      <th>D</th>\n",
       "      <th>E</th>\n",
       "    </tr>\n",
       "  </thead>\n",
       "  <tbody>\n",
       "    <tr>\n",
       "      <th>0</th>\n",
       "      <td>-0.19</td>\n",
       "      <td>-1.14</td>\n",
       "      <td>-0.72</td>\n",
       "      <td>0.73</td>\n",
       "      <td>1.58</td>\n",
       "    </tr>\n",
       "    <tr>\n",
       "      <th>1</th>\n",
       "      <td>-0.02</td>\n",
       "      <td>-0.44</td>\n",
       "      <td>1.31</td>\n",
       "      <td>-0.28</td>\n",
       "      <td>0.40</td>\n",
       "    </tr>\n",
       "    <tr>\n",
       "      <th>2</th>\n",
       "      <td>-0.10</td>\n",
       "      <td>0.62</td>\n",
       "      <td>-0.31</td>\n",
       "      <td>1.47</td>\n",
       "      <td>0.38</td>\n",
       "    </tr>\n",
       "    <tr>\n",
       "      <th>3</th>\n",
       "      <td>0.43</td>\n",
       "      <td>0.63</td>\n",
       "      <td>0.95</td>\n",
       "      <td>0.31</td>\n",
       "      <td>-0.32</td>\n",
       "    </tr>\n",
       "    <tr>\n",
       "      <th>4</th>\n",
       "      <td>-0.70</td>\n",
       "      <td>-0.14</td>\n",
       "      <td>-0.85</td>\n",
       "      <td>-0.92</td>\n",
       "      <td>0.24</td>\n",
       "    </tr>\n",
       "  </tbody>\n",
       "</table>\n",
       "</div>"
      ],
      "text/plain": [
       "       A      B      C      D      E\n",
       "0  -0.19  -1.14  -0.72   0.73   1.58\n",
       "1  -0.02  -0.44   1.31  -0.28   0.40\n",
       "2  -0.10   0.62  -0.31   1.47   0.38\n",
       "3   0.43   0.63   0.95   0.31  -0.32\n",
       "4  -0.70  -0.14  -0.85  -0.92   0.24"
      ]
     },
     "execution_count": 70,
     "metadata": {},
     "output_type": "execute_result"
    }
   ],
   "source": [
    "#现在想将DataFrame中所有的值保留两位小数显示\n",
    "\n",
    "df.applymap(lambda x:\"%.2f\" % x)"
   ]
  },
  {
   "cell_type": "markdown",
   "id": "f2a78761",
   "metadata": {},
   "source": [
    "## 2. Pandas数据分析——超好用的Groupby详解 https://zhuanlan.zhihu.com/p/101284491"
   ]
  },
  {
   "cell_type": "code",
   "execution_count": 71,
   "id": "a946bbdd",
   "metadata": {
    "scrolled": false
   },
   "outputs": [
    {
     "data": {
      "text/html": [
       "<div>\n",
       "<style scoped>\n",
       "    .dataframe tbody tr th:only-of-type {\n",
       "        vertical-align: middle;\n",
       "    }\n",
       "\n",
       "    .dataframe tbody tr th {\n",
       "        vertical-align: top;\n",
       "    }\n",
       "\n",
       "    .dataframe thead th {\n",
       "        text-align: right;\n",
       "    }\n",
       "</style>\n",
       "<table border=\"1\" class=\"dataframe\">\n",
       "  <thead>\n",
       "    <tr style=\"text-align: right;\">\n",
       "      <th></th>\n",
       "      <th>company</th>\n",
       "      <th>salary</th>\n",
       "      <th>age</th>\n",
       "    </tr>\n",
       "  </thead>\n",
       "  <tbody>\n",
       "    <tr>\n",
       "      <th>0</th>\n",
       "      <td>C</td>\n",
       "      <td>24</td>\n",
       "      <td>25</td>\n",
       "    </tr>\n",
       "    <tr>\n",
       "      <th>1</th>\n",
       "      <td>A</td>\n",
       "      <td>23</td>\n",
       "      <td>43</td>\n",
       "    </tr>\n",
       "    <tr>\n",
       "      <th>2</th>\n",
       "      <td>A</td>\n",
       "      <td>17</td>\n",
       "      <td>28</td>\n",
       "    </tr>\n",
       "    <tr>\n",
       "      <th>3</th>\n",
       "      <td>A</td>\n",
       "      <td>28</td>\n",
       "      <td>33</td>\n",
       "    </tr>\n",
       "    <tr>\n",
       "      <th>4</th>\n",
       "      <td>A</td>\n",
       "      <td>28</td>\n",
       "      <td>49</td>\n",
       "    </tr>\n",
       "    <tr>\n",
       "      <th>5</th>\n",
       "      <td>A</td>\n",
       "      <td>26</td>\n",
       "      <td>15</td>\n",
       "    </tr>\n",
       "    <tr>\n",
       "      <th>6</th>\n",
       "      <td>C</td>\n",
       "      <td>5</td>\n",
       "      <td>19</td>\n",
       "    </tr>\n",
       "    <tr>\n",
       "      <th>7</th>\n",
       "      <td>A</td>\n",
       "      <td>25</td>\n",
       "      <td>25</td>\n",
       "    </tr>\n",
       "    <tr>\n",
       "      <th>8</th>\n",
       "      <td>A</td>\n",
       "      <td>9</td>\n",
       "      <td>40</td>\n",
       "    </tr>\n",
       "    <tr>\n",
       "      <th>9</th>\n",
       "      <td>B</td>\n",
       "      <td>40</td>\n",
       "      <td>19</td>\n",
       "    </tr>\n",
       "  </tbody>\n",
       "</table>\n",
       "</div>"
      ],
      "text/plain": [
       "  company  salary  age\n",
       "0       C      24   25\n",
       "1       A      23   43\n",
       "2       A      17   28\n",
       "3       A      28   33\n",
       "4       A      28   49\n",
       "5       A      26   15\n",
       "6       C       5   19\n",
       "7       A      25   25\n",
       "8       A       9   40\n",
       "9       B      40   19"
      ]
     },
     "execution_count": 71,
     "metadata": {},
     "output_type": "execute_result"
    }
   ],
   "source": [
    "company=[\"A\",\"B\",\"C\"]\n",
    "\n",
    "data=pd.DataFrame({\n",
    "    \"company\":[company[x] for x in np.random.randint(0,len(company),10)],\n",
    "    \"salary\":np.random.randint(5,50,10),\n",
    "    \"age\":np.random.randint(15,50,10)\n",
    "}\n",
    ")\n",
    "data"
   ]
  },
  {
   "cell_type": "markdown",
   "id": "7599ce61",
   "metadata": {},
   "source": [
    "## 2.1 Groupby的基本原理"
   ]
  },
  {
   "cell_type": "code",
   "execution_count": 72,
   "id": "8ec7b133",
   "metadata": {},
   "outputs": [
    {
     "name": "stdout",
     "output_type": "stream",
     "text": [
      "<pandas.core.groupby.generic.DataFrameGroupBy object at 0x7fd90888ef40>\n"
     ]
    }
   ],
   "source": [
    "group = data.groupby(\"company\")\n",
    "print(group)"
   ]
  },
  {
   "cell_type": "code",
   "execution_count": 73,
   "id": "a0d5d2e0",
   "metadata": {},
   "outputs": [
    {
     "name": "stdout",
     "output_type": "stream",
     "text": [
      "[('A',   company  salary  age\n",
      "1       A      23   43\n",
      "2       A      17   28\n",
      "3       A      28   33\n",
      "4       A      28   49\n",
      "5       A      26   15\n",
      "7       A      25   25\n",
      "8       A       9   40), ('B',   company  salary  age\n",
      "9       B      40   19), ('C',   company  salary  age\n",
      "0       C      24   25\n",
      "6       C       5   19)]\n"
     ]
    }
   ],
   "source": [
    "print(list(group))"
   ]
  },
  {
   "cell_type": "markdown",
   "id": "2b4e4d7c",
   "metadata": {},
   "source": [
    "## 2.2 agg 聚合操作"
   ]
  },
  {
   "cell_type": "code",
   "execution_count": 74,
   "id": "3726a1b2",
   "metadata": {},
   "outputs": [
    {
     "data": {
      "text/html": [
       "<div>\n",
       "<style scoped>\n",
       "    .dataframe tbody tr th:only-of-type {\n",
       "        vertical-align: middle;\n",
       "    }\n",
       "\n",
       "    .dataframe tbody tr th {\n",
       "        vertical-align: top;\n",
       "    }\n",
       "\n",
       "    .dataframe thead th {\n",
       "        text-align: right;\n",
       "    }\n",
       "</style>\n",
       "<table border=\"1\" class=\"dataframe\">\n",
       "  <thead>\n",
       "    <tr style=\"text-align: right;\">\n",
       "      <th></th>\n",
       "      <th>salary</th>\n",
       "      <th>age</th>\n",
       "    </tr>\n",
       "    <tr>\n",
       "      <th>company</th>\n",
       "      <th></th>\n",
       "      <th></th>\n",
       "    </tr>\n",
       "  </thead>\n",
       "  <tbody>\n",
       "    <tr>\n",
       "      <th>A</th>\n",
       "      <td>22.285714</td>\n",
       "      <td>33.285714</td>\n",
       "    </tr>\n",
       "    <tr>\n",
       "      <th>B</th>\n",
       "      <td>40.000000</td>\n",
       "      <td>19.000000</td>\n",
       "    </tr>\n",
       "    <tr>\n",
       "      <th>C</th>\n",
       "      <td>14.500000</td>\n",
       "      <td>22.000000</td>\n",
       "    </tr>\n",
       "  </tbody>\n",
       "</table>\n",
       "</div>"
      ],
      "text/plain": [
       "            salary        age\n",
       "company                      \n",
       "A        22.285714  33.285714\n",
       "B        40.000000  19.000000\n",
       "C        14.500000  22.000000"
      ]
     },
     "execution_count": 74,
     "metadata": {},
     "output_type": "execute_result"
    }
   ],
   "source": [
    "data.groupby(\"company\").agg('mean')"
   ]
  },
  {
   "cell_type": "code",
   "execution_count": 75,
   "id": "0d7c1068",
   "metadata": {},
   "outputs": [
    {
     "data": {
      "text/html": [
       "<div>\n",
       "<style scoped>\n",
       "    .dataframe tbody tr th:only-of-type {\n",
       "        vertical-align: middle;\n",
       "    }\n",
       "\n",
       "    .dataframe tbody tr th {\n",
       "        vertical-align: top;\n",
       "    }\n",
       "\n",
       "    .dataframe thead th {\n",
       "        text-align: right;\n",
       "    }\n",
       "</style>\n",
       "<table border=\"1\" class=\"dataframe\">\n",
       "  <thead>\n",
       "    <tr style=\"text-align: right;\">\n",
       "      <th></th>\n",
       "      <th>salary</th>\n",
       "      <th>age</th>\n",
       "    </tr>\n",
       "    <tr>\n",
       "      <th>company</th>\n",
       "      <th></th>\n",
       "      <th></th>\n",
       "    </tr>\n",
       "  </thead>\n",
       "  <tbody>\n",
       "    <tr>\n",
       "      <th>A</th>\n",
       "      <td>25.0</td>\n",
       "      <td>33.285714</td>\n",
       "    </tr>\n",
       "    <tr>\n",
       "      <th>B</th>\n",
       "      <td>40.0</td>\n",
       "      <td>19.000000</td>\n",
       "    </tr>\n",
       "    <tr>\n",
       "      <th>C</th>\n",
       "      <td>14.5</td>\n",
       "      <td>22.000000</td>\n",
       "    </tr>\n",
       "  </tbody>\n",
       "</table>\n",
       "</div>"
      ],
      "text/plain": [
       "         salary        age\n",
       "company                   \n",
       "A          25.0  33.285714\n",
       "B          40.0  19.000000\n",
       "C          14.5  22.000000"
      ]
     },
     "execution_count": 75,
     "metadata": {},
     "output_type": "execute_result"
    }
   ],
   "source": [
    "data.groupby('company').agg({'salary':'median','age':'mean'})"
   ]
  },
  {
   "cell_type": "code",
   "execution_count": 76,
   "id": "83a2f52b",
   "metadata": {},
   "outputs": [],
   "source": [
    "avg_salary_dict = data.groupby('company')['salary'].mean().to_dict()\n",
    "#代表员工所在的公司的平均薪水（相同公司的员工具有一样的平均薪水）"
   ]
  },
  {
   "cell_type": "code",
   "execution_count": 83,
   "id": "8d1d03f6",
   "metadata": {
    "scrolled": true
   },
   "outputs": [
    {
     "data": {
      "text/html": [
       "<div>\n",
       "<style scoped>\n",
       "    .dataframe tbody tr th:only-of-type {\n",
       "        vertical-align: middle;\n",
       "    }\n",
       "\n",
       "    .dataframe tbody tr th {\n",
       "        vertical-align: top;\n",
       "    }\n",
       "\n",
       "    .dataframe thead th {\n",
       "        text-align: right;\n",
       "    }\n",
       "</style>\n",
       "<table border=\"1\" class=\"dataframe\">\n",
       "  <thead>\n",
       "    <tr style=\"text-align: right;\">\n",
       "      <th></th>\n",
       "      <th>company</th>\n",
       "      <th>salary</th>\n",
       "      <th>age</th>\n",
       "      <th>avg_salary</th>\n",
       "    </tr>\n",
       "  </thead>\n",
       "  <tbody>\n",
       "    <tr>\n",
       "      <th>0</th>\n",
       "      <td>C</td>\n",
       "      <td>24</td>\n",
       "      <td>25</td>\n",
       "      <td>14.500000</td>\n",
       "    </tr>\n",
       "    <tr>\n",
       "      <th>1</th>\n",
       "      <td>A</td>\n",
       "      <td>23</td>\n",
       "      <td>43</td>\n",
       "      <td>22.285714</td>\n",
       "    </tr>\n",
       "    <tr>\n",
       "      <th>2</th>\n",
       "      <td>A</td>\n",
       "      <td>17</td>\n",
       "      <td>28</td>\n",
       "      <td>22.285714</td>\n",
       "    </tr>\n",
       "    <tr>\n",
       "      <th>3</th>\n",
       "      <td>A</td>\n",
       "      <td>28</td>\n",
       "      <td>33</td>\n",
       "      <td>22.285714</td>\n",
       "    </tr>\n",
       "    <tr>\n",
       "      <th>4</th>\n",
       "      <td>A</td>\n",
       "      <td>28</td>\n",
       "      <td>49</td>\n",
       "      <td>22.285714</td>\n",
       "    </tr>\n",
       "    <tr>\n",
       "      <th>5</th>\n",
       "      <td>A</td>\n",
       "      <td>26</td>\n",
       "      <td>15</td>\n",
       "      <td>22.285714</td>\n",
       "    </tr>\n",
       "    <tr>\n",
       "      <th>6</th>\n",
       "      <td>C</td>\n",
       "      <td>5</td>\n",
       "      <td>19</td>\n",
       "      <td>14.500000</td>\n",
       "    </tr>\n",
       "    <tr>\n",
       "      <th>7</th>\n",
       "      <td>A</td>\n",
       "      <td>25</td>\n",
       "      <td>25</td>\n",
       "      <td>22.285714</td>\n",
       "    </tr>\n",
       "    <tr>\n",
       "      <th>8</th>\n",
       "      <td>A</td>\n",
       "      <td>9</td>\n",
       "      <td>40</td>\n",
       "      <td>22.285714</td>\n",
       "    </tr>\n",
       "    <tr>\n",
       "      <th>9</th>\n",
       "      <td>B</td>\n",
       "      <td>40</td>\n",
       "      <td>19</td>\n",
       "      <td>40.000000</td>\n",
       "    </tr>\n",
       "  </tbody>\n",
       "</table>\n",
       "</div>"
      ],
      "text/plain": [
       "  company  salary  age  avg_salary\n",
       "0       C      24   25   14.500000\n",
       "1       A      23   43   22.285714\n",
       "2       A      17   28   22.285714\n",
       "3       A      28   33   22.285714\n",
       "4       A      28   49   22.285714\n",
       "5       A      26   15   22.285714\n",
       "6       C       5   19   14.500000\n",
       "7       A      25   25   22.285714\n",
       "8       A       9   40   22.285714\n",
       "9       B      40   19   40.000000"
      ]
     },
     "execution_count": 83,
     "metadata": {},
     "output_type": "execute_result"
    }
   ],
   "source": [
    "data['avg_salary'] = data['company'].map(avg_salary_dict)\n",
    "data"
   ]
  },
  {
   "cell_type": "markdown",
   "id": "dd15996f",
   "metadata": {},
   "source": [
    "## 2.3 Transform"
   ]
  },
  {
   "cell_type": "code",
   "execution_count": 81,
   "id": "5d18b45e",
   "metadata": {
    "scrolled": true
   },
   "outputs": [],
   "source": [
    "# data['avg_salary'] = data.groupby('company')['salary'].transform('mean')\n",
    "# data\n",
    "#一句话搞定"
   ]
  },
  {
   "cell_type": "markdown",
   "id": "8f93bbdc",
   "metadata": {},
   "source": [
    "## 2.4 Groupby vs Apply"
   ]
  },
  {
   "cell_type": "markdown",
   "id": "7eb682b6",
   "metadata": {},
   "source": [
    "区别是有的，但是整个实现原理是基本一致的。\n",
    "两者的区别在于，对于groupby后的apply，以分组后的子DataFrame作为参数传入指定函数的，基本操作单位是DataFrame，\n",
    "而之前介绍的apply的基本操作单位是Series。还是以一个案例来介绍groupby后的apply用法。"
   ]
  },
  {
   "cell_type": "code",
   "execution_count": 84,
   "id": "b0d1622b",
   "metadata": {
    "scrolled": false
   },
   "outputs": [
    {
     "data": {
      "text/html": [
       "<div>\n",
       "<style scoped>\n",
       "    .dataframe tbody tr th:only-of-type {\n",
       "        vertical-align: middle;\n",
       "    }\n",
       "\n",
       "    .dataframe tbody tr th {\n",
       "        vertical-align: top;\n",
       "    }\n",
       "\n",
       "    .dataframe thead th {\n",
       "        text-align: right;\n",
       "    }\n",
       "</style>\n",
       "<table border=\"1\" class=\"dataframe\">\n",
       "  <thead>\n",
       "    <tr style=\"text-align: right;\">\n",
       "      <th></th>\n",
       "      <th>company</th>\n",
       "      <th>salary</th>\n",
       "      <th>age</th>\n",
       "      <th>avg_salary</th>\n",
       "    </tr>\n",
       "  </thead>\n",
       "  <tbody>\n",
       "    <tr>\n",
       "      <th>0</th>\n",
       "      <td>A</td>\n",
       "      <td>28</td>\n",
       "      <td>49</td>\n",
       "      <td>22.285714</td>\n",
       "    </tr>\n",
       "    <tr>\n",
       "      <th>1</th>\n",
       "      <td>B</td>\n",
       "      <td>40</td>\n",
       "      <td>19</td>\n",
       "      <td>40.000000</td>\n",
       "    </tr>\n",
       "    <tr>\n",
       "      <th>2</th>\n",
       "      <td>C</td>\n",
       "      <td>24</td>\n",
       "      <td>25</td>\n",
       "      <td>14.500000</td>\n",
       "    </tr>\n",
       "  </tbody>\n",
       "</table>\n",
       "</div>"
      ],
      "text/plain": [
       "  company  salary  age  avg_salary\n",
       "0       A      28   49   22.285714\n",
       "1       B      40   19   40.000000\n",
       "2       C      24   25   14.500000"
      ]
     },
     "execution_count": 84,
     "metadata": {},
     "output_type": "execute_result"
    }
   ],
   "source": [
    "#需要获取各个公司年龄最大的员工的数据，\n",
    "def get_oldest_staff(x):\n",
    "    df = x.sort_values(by = 'age', ascending = True)\n",
    "    return df.iloc[-1,:]\n",
    "\n",
    "oldest_staff = data.groupby('company',as_index=False).apply(get_oldest_staff)\n",
    "oldest_staff"
   ]
  },
  {
   "cell_type": "markdown",
   "id": "faea1698",
   "metadata": {},
   "source": [
    "最后，关于apply的使用，这里有个小建议，虽然说apply拥有更大的灵活性，但apply的运行效率会比agg和transform更慢。所以，groupby之后能用agg和transform解决的问题还是优先使用这两个方法，实在解决不了了才考虑使用apply进行操作。"
   ]
  },
  {
   "cell_type": "markdown",
   "id": "db546fb1",
   "metadata": {},
   "source": [
    "## 3. Pandas教程 | Merge数据合并图文详解 https://zhuanlan.zhihu.com/p/102274476"
   ]
  },
  {
   "cell_type": "markdown",
   "id": "a16c0d1f",
   "metadata": {},
   "source": [
    "经常需要将两张表拼接起来使用，这样的操作对应到SQL中是join，在Pandas中则是用merge来实现。这篇文章就讲一下merge的主要原理。\n",
    "\n"
   ]
  },
  {
   "cell_type": "markdown",
   "id": "b0c452ea",
   "metadata": {},
   "source": [
    "## 3.1 inner\n",
    "merge的'inner'的类型称为内连接，它在拼接的过程中会取两张表的键（key）的交集进行拼接。"
   ]
  },
  {
   "cell_type": "code",
   "execution_count": 90,
   "id": "9a6696a4",
   "metadata": {},
   "outputs": [
    {
     "data": {
      "text/html": [
       "<div>\n",
       "<style scoped>\n",
       "    .dataframe tbody tr th:only-of-type {\n",
       "        vertical-align: middle;\n",
       "    }\n",
       "\n",
       "    .dataframe tbody tr th {\n",
       "        vertical-align: top;\n",
       "    }\n",
       "\n",
       "    .dataframe thead th {\n",
       "        text-align: right;\n",
       "    }\n",
       "</style>\n",
       "<table border=\"1\" class=\"dataframe\">\n",
       "  <thead>\n",
       "    <tr style=\"text-align: right;\">\n",
       "      <th></th>\n",
       "      <th>userid</th>\n",
       "      <th>Age</th>\n",
       "    </tr>\n",
       "  </thead>\n",
       "  <tbody>\n",
       "    <tr>\n",
       "      <th>0</th>\n",
       "      <td>a</td>\n",
       "      <td>23</td>\n",
       "    </tr>\n",
       "    <tr>\n",
       "      <th>1</th>\n",
       "      <td>b</td>\n",
       "      <td>46</td>\n",
       "    </tr>\n",
       "    <tr>\n",
       "      <th>2</th>\n",
       "      <td>c</td>\n",
       "      <td>32</td>\n",
       "    </tr>\n",
       "    <tr>\n",
       "      <th>3</th>\n",
       "      <td>d</td>\n",
       "      <td>19</td>\n",
       "    </tr>\n",
       "  </tbody>\n",
       "</table>\n",
       "</div>"
      ],
      "text/plain": [
       "  userid  Age\n",
       "0      a   23\n",
       "1      b   46\n",
       "2      c   32\n",
       "3      d   19"
      ]
     },
     "execution_count": 90,
     "metadata": {},
     "output_type": "execute_result"
    }
   ],
   "source": [
    "data1 = {'userid':[\"a\",\"b\",'c','d'], 'Age':[23,46, 32, 19]} #使用ndarary创建\n",
    "\n",
    "df1 = pd.DataFrame(data1)\n",
    "\n",
    "df1"
   ]
  },
  {
   "cell_type": "code",
   "execution_count": 91,
   "id": "50ee47ad",
   "metadata": {},
   "outputs": [
    {
     "data": {
      "text/html": [
       "<div>\n",
       "<style scoped>\n",
       "    .dataframe tbody tr th:only-of-type {\n",
       "        vertical-align: middle;\n",
       "    }\n",
       "\n",
       "    .dataframe tbody tr th {\n",
       "        vertical-align: top;\n",
       "    }\n",
       "\n",
       "    .dataframe thead th {\n",
       "        text-align: right;\n",
       "    }\n",
       "</style>\n",
       "<table border=\"1\" class=\"dataframe\">\n",
       "  <thead>\n",
       "    <tr style=\"text-align: right;\">\n",
       "      <th></th>\n",
       "      <th>userid</th>\n",
       "      <th>payment</th>\n",
       "    </tr>\n",
       "  </thead>\n",
       "  <tbody>\n",
       "    <tr>\n",
       "      <th>0</th>\n",
       "      <td>a</td>\n",
       "      <td>2000</td>\n",
       "    </tr>\n",
       "    <tr>\n",
       "      <th>1</th>\n",
       "      <td>c</td>\n",
       "      <td>3500</td>\n",
       "    </tr>\n",
       "  </tbody>\n",
       "</table>\n",
       "</div>"
      ],
      "text/plain": [
       "  userid  payment\n",
       "0      a     2000\n",
       "1      c     3500"
      ]
     },
     "execution_count": 91,
     "metadata": {},
     "output_type": "execute_result"
    }
   ],
   "source": [
    "data2 = {'userid':[\"a\",'c'], 'payment':[2000, 3500]} #使用ndarary创建\n",
    "\n",
    "df2 = pd.DataFrame(data2)\n",
    "\n",
    "df2"
   ]
  },
  {
   "cell_type": "code",
   "execution_count": 92,
   "id": "1f8c8493",
   "metadata": {},
   "outputs": [
    {
     "data": {
      "text/html": [
       "<div>\n",
       "<style scoped>\n",
       "    .dataframe tbody tr th:only-of-type {\n",
       "        vertical-align: middle;\n",
       "    }\n",
       "\n",
       "    .dataframe tbody tr th {\n",
       "        vertical-align: top;\n",
       "    }\n",
       "\n",
       "    .dataframe thead th {\n",
       "        text-align: right;\n",
       "    }\n",
       "</style>\n",
       "<table border=\"1\" class=\"dataframe\">\n",
       "  <thead>\n",
       "    <tr style=\"text-align: right;\">\n",
       "      <th></th>\n",
       "      <th>userid</th>\n",
       "      <th>Age</th>\n",
       "      <th>payment</th>\n",
       "    </tr>\n",
       "  </thead>\n",
       "  <tbody>\n",
       "    <tr>\n",
       "      <th>0</th>\n",
       "      <td>a</td>\n",
       "      <td>23</td>\n",
       "      <td>2000</td>\n",
       "    </tr>\n",
       "    <tr>\n",
       "      <th>1</th>\n",
       "      <td>c</td>\n",
       "      <td>32</td>\n",
       "      <td>3500</td>\n",
       "    </tr>\n",
       "  </tbody>\n",
       "</table>\n",
       "</div>"
      ],
      "text/plain": [
       "  userid  Age  payment\n",
       "0      a   23     2000\n",
       "1      c   32     3500"
      ]
     },
     "execution_count": 92,
     "metadata": {},
     "output_type": "execute_result"
    }
   ],
   "source": [
    "df1.merge(df2,how='inner',on='userid')"
   ]
  },
  {
   "cell_type": "code",
   "execution_count": null,
   "id": "3548e9e5",
   "metadata": {},
   "outputs": [],
   "source": [
    "data3 = {'userid':[\"a\",'c','a','b'], 'payment':[2000, 3500, 500, 1000]} #使用ndarary创建\n",
    "\n",
    "df3 = pd.DataFrame(data3)\n",
    "\n",
    "df3"
   ]
  },
  {
   "cell_type": "code",
   "execution_count": 94,
   "id": "319bb8d9",
   "metadata": {
    "scrolled": true
   },
   "outputs": [
    {
     "data": {
      "text/html": [
       "<div>\n",
       "<style scoped>\n",
       "    .dataframe tbody tr th:only-of-type {\n",
       "        vertical-align: middle;\n",
       "    }\n",
       "\n",
       "    .dataframe tbody tr th {\n",
       "        vertical-align: top;\n",
       "    }\n",
       "\n",
       "    .dataframe thead th {\n",
       "        text-align: right;\n",
       "    }\n",
       "</style>\n",
       "<table border=\"1\" class=\"dataframe\">\n",
       "  <thead>\n",
       "    <tr style=\"text-align: right;\">\n",
       "      <th></th>\n",
       "      <th>userid</th>\n",
       "      <th>Age</th>\n",
       "      <th>payment</th>\n",
       "    </tr>\n",
       "  </thead>\n",
       "  <tbody>\n",
       "    <tr>\n",
       "      <th>0</th>\n",
       "      <td>a</td>\n",
       "      <td>23</td>\n",
       "      <td>2000</td>\n",
       "    </tr>\n",
       "    <tr>\n",
       "      <th>1</th>\n",
       "      <td>a</td>\n",
       "      <td>23</td>\n",
       "      <td>500</td>\n",
       "    </tr>\n",
       "    <tr>\n",
       "      <th>2</th>\n",
       "      <td>b</td>\n",
       "      <td>46</td>\n",
       "      <td>1000</td>\n",
       "    </tr>\n",
       "    <tr>\n",
       "      <th>3</th>\n",
       "      <td>c</td>\n",
       "      <td>32</td>\n",
       "      <td>3500</td>\n",
       "    </tr>\n",
       "  </tbody>\n",
       "</table>\n",
       "</div>"
      ],
      "text/plain": [
       "  userid  Age  payment\n",
       "0      a   23     2000\n",
       "1      a   23      500\n",
       "2      b   46     1000\n",
       "3      c   32     3500"
      ]
     },
     "execution_count": 94,
     "metadata": {},
     "output_type": "execute_result"
    }
   ],
   "source": [
    "df1.merge(df3,how='inner',on='userid')"
   ]
  },
  {
   "cell_type": "markdown",
   "id": "fb8cbc7f",
   "metadata": {},
   "source": [
    "## 3.2 outer\n",
    "'outer'是外连接，在拼接的过程中它会取两张表的键（key）的并集进行拼接。看文字不够直观，还是上例子吧！"
   ]
  },
  {
   "cell_type": "code",
   "execution_count": 100,
   "id": "645af4b3",
   "metadata": {},
   "outputs": [
    {
     "data": {
      "text/html": [
       "<div>\n",
       "<style scoped>\n",
       "    .dataframe tbody tr th:only-of-type {\n",
       "        vertical-align: middle;\n",
       "    }\n",
       "\n",
       "    .dataframe tbody tr th {\n",
       "        vertical-align: top;\n",
       "    }\n",
       "\n",
       "    .dataframe thead th {\n",
       "        text-align: right;\n",
       "    }\n",
       "</style>\n",
       "<table border=\"1\" class=\"dataframe\">\n",
       "  <thead>\n",
       "    <tr style=\"text-align: right;\">\n",
       "      <th></th>\n",
       "      <th>userid</th>\n",
       "      <th>Age</th>\n",
       "    </tr>\n",
       "  </thead>\n",
       "  <tbody>\n",
       "    <tr>\n",
       "      <th>0</th>\n",
       "      <td>a</td>\n",
       "      <td>23</td>\n",
       "    </tr>\n",
       "    <tr>\n",
       "      <th>1</th>\n",
       "      <td>b</td>\n",
       "      <td>46</td>\n",
       "    </tr>\n",
       "    <tr>\n",
       "      <th>2</th>\n",
       "      <td>c</td>\n",
       "      <td>32</td>\n",
       "    </tr>\n",
       "    <tr>\n",
       "      <th>3</th>\n",
       "      <td>d</td>\n",
       "      <td>19</td>\n",
       "    </tr>\n",
       "  </tbody>\n",
       "</table>\n",
       "</div>"
      ],
      "text/plain": [
       "  userid  Age\n",
       "0      a   23\n",
       "1      b   46\n",
       "2      c   32\n",
       "3      d   19"
      ]
     },
     "execution_count": 100,
     "metadata": {},
     "output_type": "execute_result"
    }
   ],
   "source": [
    "data1 = {'userid':[\"a\",\"b\",'c','d'], 'Age':[23,46, 32, 19]} #使用ndarary创建\n",
    "\n",
    "df1 = pd.DataFrame(data1)\n",
    "\n",
    "df1"
   ]
  },
  {
   "cell_type": "code",
   "execution_count": 101,
   "id": "df3b1b4b",
   "metadata": {},
   "outputs": [
    {
     "data": {
      "text/html": [
       "<div>\n",
       "<style scoped>\n",
       "    .dataframe tbody tr th:only-of-type {\n",
       "        vertical-align: middle;\n",
       "    }\n",
       "\n",
       "    .dataframe tbody tr th {\n",
       "        vertical-align: top;\n",
       "    }\n",
       "\n",
       "    .dataframe thead th {\n",
       "        text-align: right;\n",
       "    }\n",
       "</style>\n",
       "<table border=\"1\" class=\"dataframe\">\n",
       "  <thead>\n",
       "    <tr style=\"text-align: right;\">\n",
       "      <th></th>\n",
       "      <th>userid</th>\n",
       "      <th>payment</th>\n",
       "    </tr>\n",
       "  </thead>\n",
       "  <tbody>\n",
       "    <tr>\n",
       "      <th>0</th>\n",
       "      <td>a</td>\n",
       "      <td>2000</td>\n",
       "    </tr>\n",
       "    <tr>\n",
       "      <th>1</th>\n",
       "      <td>c</td>\n",
       "      <td>3500</td>\n",
       "    </tr>\n",
       "    <tr>\n",
       "      <th>2</th>\n",
       "      <td>e</td>\n",
       "      <td>600</td>\n",
       "    </tr>\n",
       "  </tbody>\n",
       "</table>\n",
       "</div>"
      ],
      "text/plain": [
       "  userid  payment\n",
       "0      a     2000\n",
       "1      c     3500\n",
       "2      e      600"
      ]
     },
     "execution_count": 101,
     "metadata": {},
     "output_type": "execute_result"
    }
   ],
   "source": [
    "data2 = {'userid':[\"a\",'c','e'], 'payment':[2000, 3500,600]} #使用ndarary创建\n",
    "\n",
    "df2 = pd.DataFrame(data2)\n",
    "\n",
    "df2"
   ]
  },
  {
   "cell_type": "code",
   "execution_count": 103,
   "id": "7e761628",
   "metadata": {},
   "outputs": [
    {
     "data": {
      "text/html": [
       "<div>\n",
       "<style scoped>\n",
       "    .dataframe tbody tr th:only-of-type {\n",
       "        vertical-align: middle;\n",
       "    }\n",
       "\n",
       "    .dataframe tbody tr th {\n",
       "        vertical-align: top;\n",
       "    }\n",
       "\n",
       "    .dataframe thead th {\n",
       "        text-align: right;\n",
       "    }\n",
       "</style>\n",
       "<table border=\"1\" class=\"dataframe\">\n",
       "  <thead>\n",
       "    <tr style=\"text-align: right;\">\n",
       "      <th></th>\n",
       "      <th>userid</th>\n",
       "      <th>Age</th>\n",
       "      <th>payment</th>\n",
       "    </tr>\n",
       "  </thead>\n",
       "  <tbody>\n",
       "    <tr>\n",
       "      <th>0</th>\n",
       "      <td>a</td>\n",
       "      <td>23.0</td>\n",
       "      <td>2000.0</td>\n",
       "    </tr>\n",
       "    <tr>\n",
       "      <th>1</th>\n",
       "      <td>b</td>\n",
       "      <td>46.0</td>\n",
       "      <td>NaN</td>\n",
       "    </tr>\n",
       "    <tr>\n",
       "      <th>2</th>\n",
       "      <td>c</td>\n",
       "      <td>32.0</td>\n",
       "      <td>3500.0</td>\n",
       "    </tr>\n",
       "    <tr>\n",
       "      <th>3</th>\n",
       "      <td>d</td>\n",
       "      <td>19.0</td>\n",
       "      <td>NaN</td>\n",
       "    </tr>\n",
       "    <tr>\n",
       "      <th>4</th>\n",
       "      <td>e</td>\n",
       "      <td>NaN</td>\n",
       "      <td>600.0</td>\n",
       "    </tr>\n",
       "  </tbody>\n",
       "</table>\n",
       "</div>"
      ],
      "text/plain": [
       "  userid   Age  payment\n",
       "0      a  23.0   2000.0\n",
       "1      b  46.0      NaN\n",
       "2      c  32.0   3500.0\n",
       "3      d  19.0      NaN\n",
       "4      e   NaN    600.0"
      ]
     },
     "execution_count": 103,
     "metadata": {},
     "output_type": "execute_result"
    }
   ],
   "source": [
    "df1.merge(df2,how='outer',on='userid')"
   ]
  },
  {
   "cell_type": "markdown",
   "id": "35ed99e5",
   "metadata": {},
   "source": [
    "## 3.3 left 和right\n",
    "'left'\n",
    "merge时，以左边表格的键为基准进行配对，如果左边表格中的键在右边不存在，则用缺失值NaN填充。\n",
    "\n",
    "'right'\n",
    "merge时，以右边表格的键为基准进行配对，如果右边表格中的键在左边不存在，则用缺失值NaN填充。"
   ]
  },
  {
   "cell_type": "code",
   "execution_count": 95,
   "id": "970c0673",
   "metadata": {},
   "outputs": [
    {
     "data": {
      "text/html": [
       "<div>\n",
       "<style scoped>\n",
       "    .dataframe tbody tr th:only-of-type {\n",
       "        vertical-align: middle;\n",
       "    }\n",
       "\n",
       "    .dataframe tbody tr th {\n",
       "        vertical-align: top;\n",
       "    }\n",
       "\n",
       "    .dataframe thead th {\n",
       "        text-align: right;\n",
       "    }\n",
       "</style>\n",
       "<table border=\"1\" class=\"dataframe\">\n",
       "  <thead>\n",
       "    <tr style=\"text-align: right;\">\n",
       "      <th></th>\n",
       "      <th>userid</th>\n",
       "      <th>Age</th>\n",
       "    </tr>\n",
       "  </thead>\n",
       "  <tbody>\n",
       "    <tr>\n",
       "      <th>0</th>\n",
       "      <td>a</td>\n",
       "      <td>23</td>\n",
       "    </tr>\n",
       "    <tr>\n",
       "      <th>1</th>\n",
       "      <td>b</td>\n",
       "      <td>46</td>\n",
       "    </tr>\n",
       "    <tr>\n",
       "      <th>2</th>\n",
       "      <td>c</td>\n",
       "      <td>32</td>\n",
       "    </tr>\n",
       "    <tr>\n",
       "      <th>3</th>\n",
       "      <td>d</td>\n",
       "      <td>19</td>\n",
       "    </tr>\n",
       "  </tbody>\n",
       "</table>\n",
       "</div>"
      ],
      "text/plain": [
       "  userid  Age\n",
       "0      a   23\n",
       "1      b   46\n",
       "2      c   32\n",
       "3      d   19"
      ]
     },
     "execution_count": 95,
     "metadata": {},
     "output_type": "execute_result"
    }
   ],
   "source": [
    "data1 = {'userid':[\"a\",\"b\",'c','d'], 'Age':[23,46, 32, 19]} #使用ndarary创建\n",
    "\n",
    "df1 = pd.DataFrame(data1)\n",
    "\n",
    "df1"
   ]
  },
  {
   "cell_type": "code",
   "execution_count": 96,
   "id": "9f52131f",
   "metadata": {},
   "outputs": [
    {
     "data": {
      "text/html": [
       "<div>\n",
       "<style scoped>\n",
       "    .dataframe tbody tr th:only-of-type {\n",
       "        vertical-align: middle;\n",
       "    }\n",
       "\n",
       "    .dataframe tbody tr th {\n",
       "        vertical-align: top;\n",
       "    }\n",
       "\n",
       "    .dataframe thead th {\n",
       "        text-align: right;\n",
       "    }\n",
       "</style>\n",
       "<table border=\"1\" class=\"dataframe\">\n",
       "  <thead>\n",
       "    <tr style=\"text-align: right;\">\n",
       "      <th></th>\n",
       "      <th>userid</th>\n",
       "      <th>payment</th>\n",
       "    </tr>\n",
       "  </thead>\n",
       "  <tbody>\n",
       "    <tr>\n",
       "      <th>0</th>\n",
       "      <td>a</td>\n",
       "      <td>2000</td>\n",
       "    </tr>\n",
       "    <tr>\n",
       "      <th>1</th>\n",
       "      <td>c</td>\n",
       "      <td>3500</td>\n",
       "    </tr>\n",
       "    <tr>\n",
       "      <th>2</th>\n",
       "      <td>e</td>\n",
       "      <td>600</td>\n",
       "    </tr>\n",
       "  </tbody>\n",
       "</table>\n",
       "</div>"
      ],
      "text/plain": [
       "  userid  payment\n",
       "0      a     2000\n",
       "1      c     3500\n",
       "2      e      600"
      ]
     },
     "execution_count": 96,
     "metadata": {},
     "output_type": "execute_result"
    }
   ],
   "source": [
    "data2 = {'userid':[\"a\",'c','e'], 'payment':[2000, 3500,600]} #使用ndarary创建\n",
    "\n",
    "df2 = pd.DataFrame(data2)\n",
    "\n",
    "df2"
   ]
  },
  {
   "cell_type": "code",
   "execution_count": 98,
   "id": "34fc9a03",
   "metadata": {},
   "outputs": [
    {
     "data": {
      "text/html": [
       "<div>\n",
       "<style scoped>\n",
       "    .dataframe tbody tr th:only-of-type {\n",
       "        vertical-align: middle;\n",
       "    }\n",
       "\n",
       "    .dataframe tbody tr th {\n",
       "        vertical-align: top;\n",
       "    }\n",
       "\n",
       "    .dataframe thead th {\n",
       "        text-align: right;\n",
       "    }\n",
       "</style>\n",
       "<table border=\"1\" class=\"dataframe\">\n",
       "  <thead>\n",
       "    <tr style=\"text-align: right;\">\n",
       "      <th></th>\n",
       "      <th>userid</th>\n",
       "      <th>Age</th>\n",
       "      <th>payment</th>\n",
       "    </tr>\n",
       "  </thead>\n",
       "  <tbody>\n",
       "    <tr>\n",
       "      <th>0</th>\n",
       "      <td>a</td>\n",
       "      <td>23</td>\n",
       "      <td>2000.0</td>\n",
       "    </tr>\n",
       "    <tr>\n",
       "      <th>1</th>\n",
       "      <td>b</td>\n",
       "      <td>46</td>\n",
       "      <td>NaN</td>\n",
       "    </tr>\n",
       "    <tr>\n",
       "      <th>2</th>\n",
       "      <td>c</td>\n",
       "      <td>32</td>\n",
       "      <td>3500.0</td>\n",
       "    </tr>\n",
       "    <tr>\n",
       "      <th>3</th>\n",
       "      <td>d</td>\n",
       "      <td>19</td>\n",
       "      <td>NaN</td>\n",
       "    </tr>\n",
       "  </tbody>\n",
       "</table>\n",
       "</div>"
      ],
      "text/plain": [
       "  userid  Age  payment\n",
       "0      a   23   2000.0\n",
       "1      b   46      NaN\n",
       "2      c   32   3500.0\n",
       "3      d   19      NaN"
      ]
     },
     "execution_count": 98,
     "metadata": {},
     "output_type": "execute_result"
    }
   ],
   "source": [
    "df1.merge(df2,how='left',on='userid')"
   ]
  },
  {
   "cell_type": "code",
   "execution_count": 99,
   "id": "758a8fed",
   "metadata": {},
   "outputs": [
    {
     "data": {
      "text/html": [
       "<div>\n",
       "<style scoped>\n",
       "    .dataframe tbody tr th:only-of-type {\n",
       "        vertical-align: middle;\n",
       "    }\n",
       "\n",
       "    .dataframe tbody tr th {\n",
       "        vertical-align: top;\n",
       "    }\n",
       "\n",
       "    .dataframe thead th {\n",
       "        text-align: right;\n",
       "    }\n",
       "</style>\n",
       "<table border=\"1\" class=\"dataframe\">\n",
       "  <thead>\n",
       "    <tr style=\"text-align: right;\">\n",
       "      <th></th>\n",
       "      <th>userid</th>\n",
       "      <th>payment</th>\n",
       "      <th>Age</th>\n",
       "    </tr>\n",
       "  </thead>\n",
       "  <tbody>\n",
       "    <tr>\n",
       "      <th>0</th>\n",
       "      <td>a</td>\n",
       "      <td>2000.0</td>\n",
       "      <td>23</td>\n",
       "    </tr>\n",
       "    <tr>\n",
       "      <th>1</th>\n",
       "      <td>b</td>\n",
       "      <td>NaN</td>\n",
       "      <td>46</td>\n",
       "    </tr>\n",
       "    <tr>\n",
       "      <th>2</th>\n",
       "      <td>c</td>\n",
       "      <td>3500.0</td>\n",
       "      <td>32</td>\n",
       "    </tr>\n",
       "    <tr>\n",
       "      <th>3</th>\n",
       "      <td>d</td>\n",
       "      <td>NaN</td>\n",
       "      <td>19</td>\n",
       "    </tr>\n",
       "  </tbody>\n",
       "</table>\n",
       "</div>"
      ],
      "text/plain": [
       "  userid  payment  Age\n",
       "0      a   2000.0   23\n",
       "1      b      NaN   46\n",
       "2      c   3500.0   32\n",
       "3      d      NaN   19"
      ]
     },
     "execution_count": 99,
     "metadata": {},
     "output_type": "execute_result"
    }
   ],
   "source": [
    "df2.merge(df1,how='right',on='userid')"
   ]
  },
  {
   "cell_type": "markdown",
   "id": "2b95035f",
   "metadata": {},
   "source": [
    "## 4. Pandas数据处理——盘点那些常用的函数（上）https://zhuanlan.zhihu.com/p/106722583"
   ]
  },
  {
   "cell_type": "code",
   "execution_count": 104,
   "id": "ea4a6141",
   "metadata": {},
   "outputs": [
    {
     "data": {
      "text/html": [
       "<div>\n",
       "<style scoped>\n",
       "    .dataframe tbody tr th:only-of-type {\n",
       "        vertical-align: middle;\n",
       "    }\n",
       "\n",
       "    .dataframe tbody tr th {\n",
       "        vertical-align: top;\n",
       "    }\n",
       "\n",
       "    .dataframe thead th {\n",
       "        text-align: right;\n",
       "    }\n",
       "</style>\n",
       "<table border=\"1\" class=\"dataframe\">\n",
       "  <thead>\n",
       "    <tr style=\"text-align: right;\">\n",
       "      <th></th>\n",
       "      <th>company</th>\n",
       "      <th>salary</th>\n",
       "      <th>age</th>\n",
       "    </tr>\n",
       "  </thead>\n",
       "  <tbody>\n",
       "    <tr>\n",
       "      <th>0</th>\n",
       "      <td>C</td>\n",
       "      <td>22</td>\n",
       "      <td>41</td>\n",
       "    </tr>\n",
       "    <tr>\n",
       "      <th>1</th>\n",
       "      <td>B</td>\n",
       "      <td>19</td>\n",
       "      <td>44</td>\n",
       "    </tr>\n",
       "    <tr>\n",
       "      <th>2</th>\n",
       "      <td>C</td>\n",
       "      <td>47</td>\n",
       "      <td>43</td>\n",
       "    </tr>\n",
       "    <tr>\n",
       "      <th>3</th>\n",
       "      <td>C</td>\n",
       "      <td>38</td>\n",
       "      <td>19</td>\n",
       "    </tr>\n",
       "    <tr>\n",
       "      <th>4</th>\n",
       "      <td>A</td>\n",
       "      <td>17</td>\n",
       "      <td>27</td>\n",
       "    </tr>\n",
       "    <tr>\n",
       "      <th>5</th>\n",
       "      <td>B</td>\n",
       "      <td>29</td>\n",
       "      <td>28</td>\n",
       "    </tr>\n",
       "    <tr>\n",
       "      <th>6</th>\n",
       "      <td>C</td>\n",
       "      <td>37</td>\n",
       "      <td>26</td>\n",
       "    </tr>\n",
       "    <tr>\n",
       "      <th>7</th>\n",
       "      <td>C</td>\n",
       "      <td>40</td>\n",
       "      <td>29</td>\n",
       "    </tr>\n",
       "    <tr>\n",
       "      <th>8</th>\n",
       "      <td>C</td>\n",
       "      <td>33</td>\n",
       "      <td>48</td>\n",
       "    </tr>\n",
       "    <tr>\n",
       "      <th>9</th>\n",
       "      <td>C</td>\n",
       "      <td>24</td>\n",
       "      <td>30</td>\n",
       "    </tr>\n",
       "  </tbody>\n",
       "</table>\n",
       "</div>"
      ],
      "text/plain": [
       "  company  salary  age\n",
       "0       C      22   41\n",
       "1       B      19   44\n",
       "2       C      47   43\n",
       "3       C      38   19\n",
       "4       A      17   27\n",
       "5       B      29   28\n",
       "6       C      37   26\n",
       "7       C      40   29\n",
       "8       C      33   48\n",
       "9       C      24   30"
      ]
     },
     "execution_count": 104,
     "metadata": {},
     "output_type": "execute_result"
    }
   ],
   "source": [
    "company=[\"A\",\"B\",\"C\"]\n",
    "\n",
    "data=pd.DataFrame({\n",
    "    \"company\":[company[x] for x in np.random.randint(0,len(company),10)],\n",
    "    \"salary\":np.random.randint(5,50,10),\n",
    "    \"age\":np.random.randint(15,50,10)\n",
    "}\n",
    ")\n",
    "data"
   ]
  },
  {
   "cell_type": "code",
   "execution_count": 105,
   "id": "032949eb",
   "metadata": {},
   "outputs": [
    {
     "data": {
      "text/html": [
       "<div>\n",
       "<style scoped>\n",
       "    .dataframe tbody tr th:only-of-type {\n",
       "        vertical-align: middle;\n",
       "    }\n",
       "\n",
       "    .dataframe tbody tr th {\n",
       "        vertical-align: top;\n",
       "    }\n",
       "\n",
       "    .dataframe thead th {\n",
       "        text-align: right;\n",
       "    }\n",
       "</style>\n",
       "<table border=\"1\" class=\"dataframe\">\n",
       "  <thead>\n",
       "    <tr style=\"text-align: right;\">\n",
       "      <th></th>\n",
       "      <th>company</th>\n",
       "      <th>salary</th>\n",
       "      <th>age</th>\n",
       "    </tr>\n",
       "  </thead>\n",
       "  <tbody>\n",
       "    <tr>\n",
       "      <th>0</th>\n",
       "      <td>C</td>\n",
       "      <td>22</td>\n",
       "      <td>41</td>\n",
       "    </tr>\n",
       "    <tr>\n",
       "      <th>1</th>\n",
       "      <td>B</td>\n",
       "      <td>19</td>\n",
       "      <td>44</td>\n",
       "    </tr>\n",
       "    <tr>\n",
       "      <th>2</th>\n",
       "      <td>C</td>\n",
       "      <td>47</td>\n",
       "      <td>43</td>\n",
       "    </tr>\n",
       "    <tr>\n",
       "      <th>3</th>\n",
       "      <td>C</td>\n",
       "      <td>38</td>\n",
       "      <td>19</td>\n",
       "    </tr>\n",
       "    <tr>\n",
       "      <th>4</th>\n",
       "      <td>A</td>\n",
       "      <td>17</td>\n",
       "      <td>27</td>\n",
       "    </tr>\n",
       "  </tbody>\n",
       "</table>\n",
       "</div>"
      ],
      "text/plain": [
       "  company  salary  age\n",
       "0       C      22   41\n",
       "1       B      19   44\n",
       "2       C      47   43\n",
       "3       C      38   19\n",
       "4       A      17   27"
      ]
     },
     "execution_count": 105,
     "metadata": {},
     "output_type": "execute_result"
    }
   ],
   "source": [
    "data.head()"
   ]
  },
  {
   "cell_type": "code",
   "execution_count": 106,
   "id": "36ba24f2",
   "metadata": {},
   "outputs": [
    {
     "name": "stdout",
     "output_type": "stream",
     "text": [
      "<class 'pandas.core.frame.DataFrame'>\n",
      "RangeIndex: 10 entries, 0 to 9\n",
      "Data columns (total 3 columns):\n",
      " #   Column   Non-Null Count  Dtype \n",
      "---  ------   --------------  ----- \n",
      " 0   company  10 non-null     object\n",
      " 1   salary   10 non-null     int64 \n",
      " 2   age      10 non-null     int64 \n",
      "dtypes: int64(2), object(1)\n",
      "memory usage: 368.0+ bytes\n"
     ]
    }
   ],
   "source": [
    "data.info()"
   ]
  },
  {
   "cell_type": "code",
   "execution_count": 108,
   "id": "0aec28cf",
   "metadata": {},
   "outputs": [
    {
     "data": {
      "text/html": [
       "<div>\n",
       "<style scoped>\n",
       "    .dataframe tbody tr th:only-of-type {\n",
       "        vertical-align: middle;\n",
       "    }\n",
       "\n",
       "    .dataframe tbody tr th {\n",
       "        vertical-align: top;\n",
       "    }\n",
       "\n",
       "    .dataframe thead th {\n",
       "        text-align: right;\n",
       "    }\n",
       "</style>\n",
       "<table border=\"1\" class=\"dataframe\">\n",
       "  <thead>\n",
       "    <tr style=\"text-align: right;\">\n",
       "      <th></th>\n",
       "      <th>salary</th>\n",
       "      <th>age</th>\n",
       "    </tr>\n",
       "  </thead>\n",
       "  <tbody>\n",
       "    <tr>\n",
       "      <th>count</th>\n",
       "      <td>10.000000</td>\n",
       "      <td>10.000000</td>\n",
       "    </tr>\n",
       "    <tr>\n",
       "      <th>mean</th>\n",
       "      <td>30.600000</td>\n",
       "      <td>33.500000</td>\n",
       "    </tr>\n",
       "    <tr>\n",
       "      <th>std</th>\n",
       "      <td>9.991107</td>\n",
       "      <td>9.652288</td>\n",
       "    </tr>\n",
       "    <tr>\n",
       "      <th>min</th>\n",
       "      <td>17.000000</td>\n",
       "      <td>19.000000</td>\n",
       "    </tr>\n",
       "    <tr>\n",
       "      <th>25%</th>\n",
       "      <td>22.500000</td>\n",
       "      <td>27.250000</td>\n",
       "    </tr>\n",
       "    <tr>\n",
       "      <th>50%</th>\n",
       "      <td>31.000000</td>\n",
       "      <td>29.500000</td>\n",
       "    </tr>\n",
       "    <tr>\n",
       "      <th>75%</th>\n",
       "      <td>37.750000</td>\n",
       "      <td>42.500000</td>\n",
       "    </tr>\n",
       "    <tr>\n",
       "      <th>max</th>\n",
       "      <td>47.000000</td>\n",
       "      <td>48.000000</td>\n",
       "    </tr>\n",
       "  </tbody>\n",
       "</table>\n",
       "</div>"
      ],
      "text/plain": [
       "          salary        age\n",
       "count  10.000000  10.000000\n",
       "mean   30.600000  33.500000\n",
       "std     9.991107   9.652288\n",
       "min    17.000000  19.000000\n",
       "25%    22.500000  27.250000\n",
       "50%    31.000000  29.500000\n",
       "75%    37.750000  42.500000\n",
       "max    47.000000  48.000000"
      ]
     },
     "execution_count": 108,
     "metadata": {},
     "output_type": "execute_result"
    }
   ],
   "source": [
    "data.describe()"
   ]
  },
  {
   "cell_type": "code",
   "execution_count": 110,
   "id": "3cc74aaa",
   "metadata": {},
   "outputs": [
    {
     "data": {
      "text/plain": [
       "C    7\n",
       "B    2\n",
       "A    1\n",
       "Name: company, dtype: int64"
      ]
     },
     "execution_count": 110,
     "metadata": {},
     "output_type": "execute_result"
    }
   ],
   "source": [
    "data['company'].value_counts()"
   ]
  },
  {
   "cell_type": "code",
   "execution_count": 111,
   "id": "6f557b50",
   "metadata": {},
   "outputs": [
    {
     "data": {
      "text/plain": [
       "C    0.7\n",
       "B    0.2\n",
       "A    0.1\n",
       "Name: company, dtype: float64"
      ]
     },
     "execution_count": 111,
     "metadata": {},
     "output_type": "execute_result"
    }
   ],
   "source": [
    "data['company'].value_counts(normalize=True)"
   ]
  },
  {
   "cell_type": "code",
   "execution_count": 112,
   "id": "81a9a003",
   "metadata": {},
   "outputs": [
    {
     "data": {
      "text/plain": [
       "A    1\n",
       "B    2\n",
       "C    7\n",
       "Name: company, dtype: int64"
      ]
     },
     "execution_count": 112,
     "metadata": {},
     "output_type": "execute_result"
    }
   ],
   "source": [
    "data['company'].value_counts(ascending=True)"
   ]
  },
  {
   "cell_type": "code",
   "execution_count": 113,
   "id": "2da865d5",
   "metadata": {},
   "outputs": [
    {
     "data": {
      "text/html": [
       "<div>\n",
       "<style scoped>\n",
       "    .dataframe tbody tr th:only-of-type {\n",
       "        vertical-align: middle;\n",
       "    }\n",
       "\n",
       "    .dataframe tbody tr th {\n",
       "        vertical-align: top;\n",
       "    }\n",
       "\n",
       "    .dataframe thead th {\n",
       "        text-align: right;\n",
       "    }\n",
       "</style>\n",
       "<table border=\"1\" class=\"dataframe\">\n",
       "  <thead>\n",
       "    <tr style=\"text-align: right;\">\n",
       "      <th></th>\n",
       "      <th>company</th>\n",
       "      <th>salary</th>\n",
       "      <th>age</th>\n",
       "    </tr>\n",
       "  </thead>\n",
       "  <tbody>\n",
       "    <tr>\n",
       "      <th>0</th>\n",
       "      <td>False</td>\n",
       "      <td>False</td>\n",
       "      <td>False</td>\n",
       "    </tr>\n",
       "    <tr>\n",
       "      <th>1</th>\n",
       "      <td>False</td>\n",
       "      <td>False</td>\n",
       "      <td>False</td>\n",
       "    </tr>\n",
       "    <tr>\n",
       "      <th>2</th>\n",
       "      <td>False</td>\n",
       "      <td>False</td>\n",
       "      <td>False</td>\n",
       "    </tr>\n",
       "    <tr>\n",
       "      <th>3</th>\n",
       "      <td>False</td>\n",
       "      <td>False</td>\n",
       "      <td>False</td>\n",
       "    </tr>\n",
       "    <tr>\n",
       "      <th>4</th>\n",
       "      <td>False</td>\n",
       "      <td>False</td>\n",
       "      <td>False</td>\n",
       "    </tr>\n",
       "    <tr>\n",
       "      <th>5</th>\n",
       "      <td>False</td>\n",
       "      <td>False</td>\n",
       "      <td>False</td>\n",
       "    </tr>\n",
       "    <tr>\n",
       "      <th>6</th>\n",
       "      <td>False</td>\n",
       "      <td>False</td>\n",
       "      <td>False</td>\n",
       "    </tr>\n",
       "    <tr>\n",
       "      <th>7</th>\n",
       "      <td>False</td>\n",
       "      <td>False</td>\n",
       "      <td>False</td>\n",
       "    </tr>\n",
       "    <tr>\n",
       "      <th>8</th>\n",
       "      <td>False</td>\n",
       "      <td>False</td>\n",
       "      <td>False</td>\n",
       "    </tr>\n",
       "    <tr>\n",
       "      <th>9</th>\n",
       "      <td>False</td>\n",
       "      <td>False</td>\n",
       "      <td>False</td>\n",
       "    </tr>\n",
       "  </tbody>\n",
       "</table>\n",
       "</div>"
      ],
      "text/plain": [
       "   company  salary    age\n",
       "0    False   False  False\n",
       "1    False   False  False\n",
       "2    False   False  False\n",
       "3    False   False  False\n",
       "4    False   False  False\n",
       "5    False   False  False\n",
       "6    False   False  False\n",
       "7    False   False  False\n",
       "8    False   False  False\n",
       "9    False   False  False"
      ]
     },
     "execution_count": 113,
     "metadata": {},
     "output_type": "execute_result"
    }
   ],
   "source": [
    "data.isna()"
   ]
  },
  {
   "cell_type": "code",
   "execution_count": 114,
   "id": "5566297f",
   "metadata": {},
   "outputs": [
    {
     "data": {
      "text/plain": [
       "company    False\n",
       "salary     False\n",
       "age        False\n",
       "dtype: bool"
      ]
     },
     "execution_count": 114,
     "metadata": {},
     "output_type": "execute_result"
    }
   ],
   "source": [
    "data.isna().any()"
   ]
  },
  {
   "cell_type": "code",
   "execution_count": 115,
   "id": "c152cab3",
   "metadata": {
    "scrolled": true
   },
   "outputs": [
    {
     "data": {
      "text/html": [
       "<div>\n",
       "<style scoped>\n",
       "    .dataframe tbody tr th:only-of-type {\n",
       "        vertical-align: middle;\n",
       "    }\n",
       "\n",
       "    .dataframe tbody tr th {\n",
       "        vertical-align: top;\n",
       "    }\n",
       "\n",
       "    .dataframe thead th {\n",
       "        text-align: right;\n",
       "    }\n",
       "</style>\n",
       "<table border=\"1\" class=\"dataframe\">\n",
       "  <thead>\n",
       "    <tr style=\"text-align: right;\">\n",
       "      <th></th>\n",
       "      <th>company</th>\n",
       "      <th>salary</th>\n",
       "      <th>age</th>\n",
       "    </tr>\n",
       "  </thead>\n",
       "  <tbody>\n",
       "    <tr>\n",
       "      <th>0</th>\n",
       "      <td>C</td>\n",
       "      <td>22</td>\n",
       "      <td>41</td>\n",
       "    </tr>\n",
       "    <tr>\n",
       "      <th>1</th>\n",
       "      <td>B</td>\n",
       "      <td>19</td>\n",
       "      <td>44</td>\n",
       "    </tr>\n",
       "    <tr>\n",
       "      <th>2</th>\n",
       "      <td>C</td>\n",
       "      <td>47</td>\n",
       "      <td>43</td>\n",
       "    </tr>\n",
       "    <tr>\n",
       "      <th>3</th>\n",
       "      <td>C</td>\n",
       "      <td>38</td>\n",
       "      <td>19</td>\n",
       "    </tr>\n",
       "    <tr>\n",
       "      <th>4</th>\n",
       "      <td>A</td>\n",
       "      <td>17</td>\n",
       "      <td>27</td>\n",
       "    </tr>\n",
       "    <tr>\n",
       "      <th>5</th>\n",
       "      <td>B</td>\n",
       "      <td>29</td>\n",
       "      <td>28</td>\n",
       "    </tr>\n",
       "    <tr>\n",
       "      <th>6</th>\n",
       "      <td>C</td>\n",
       "      <td>37</td>\n",
       "      <td>26</td>\n",
       "    </tr>\n",
       "    <tr>\n",
       "      <th>7</th>\n",
       "      <td>C</td>\n",
       "      <td>40</td>\n",
       "      <td>29</td>\n",
       "    </tr>\n",
       "    <tr>\n",
       "      <th>8</th>\n",
       "      <td>C</td>\n",
       "      <td>33</td>\n",
       "      <td>48</td>\n",
       "    </tr>\n",
       "    <tr>\n",
       "      <th>9</th>\n",
       "      <td>C</td>\n",
       "      <td>24</td>\n",
       "      <td>30</td>\n",
       "    </tr>\n",
       "  </tbody>\n",
       "</table>\n",
       "</div>"
      ],
      "text/plain": [
       "  company  salary  age\n",
       "0       C      22   41\n",
       "1       B      19   44\n",
       "2       C      47   43\n",
       "3       C      38   19\n",
       "4       A      17   27\n",
       "5       B      29   28\n",
       "6       C      37   26\n",
       "7       C      40   29\n",
       "8       C      33   48\n",
       "9       C      24   30"
      ]
     },
     "execution_count": 115,
     "metadata": {},
     "output_type": "execute_result"
    }
   ],
   "source": [
    "data.dropna()"
   ]
  },
  {
   "cell_type": "code",
   "execution_count": 118,
   "id": "964a7727",
   "metadata": {},
   "outputs": [],
   "source": [
    "# data.fillna('B')\n",
    "# # 用缺失值后面的值来填充（这里NaN后面是'A'）\n",
    "#  data.fillna(method='bfill')"
   ]
  },
  {
   "cell_type": "code",
   "execution_count": 117,
   "id": "a5db41b6",
   "metadata": {},
   "outputs": [
    {
     "data": {
      "text/html": [
       "<div>\n",
       "<style scoped>\n",
       "    .dataframe tbody tr th:only-of-type {\n",
       "        vertical-align: middle;\n",
       "    }\n",
       "\n",
       "    .dataframe tbody tr th {\n",
       "        vertical-align: top;\n",
       "    }\n",
       "\n",
       "    .dataframe thead th {\n",
       "        text-align: right;\n",
       "    }\n",
       "</style>\n",
       "<table border=\"1\" class=\"dataframe\">\n",
       "  <thead>\n",
       "    <tr style=\"text-align: right;\">\n",
       "      <th></th>\n",
       "      <th>company</th>\n",
       "      <th>salary</th>\n",
       "      <th>age</th>\n",
       "    </tr>\n",
       "  </thead>\n",
       "  <tbody>\n",
       "    <tr>\n",
       "      <th>9</th>\n",
       "      <td>C</td>\n",
       "      <td>24</td>\n",
       "      <td>30</td>\n",
       "    </tr>\n",
       "    <tr>\n",
       "      <th>8</th>\n",
       "      <td>C</td>\n",
       "      <td>33</td>\n",
       "      <td>48</td>\n",
       "    </tr>\n",
       "    <tr>\n",
       "      <th>7</th>\n",
       "      <td>C</td>\n",
       "      <td>40</td>\n",
       "      <td>29</td>\n",
       "    </tr>\n",
       "    <tr>\n",
       "      <th>6</th>\n",
       "      <td>C</td>\n",
       "      <td>37</td>\n",
       "      <td>26</td>\n",
       "    </tr>\n",
       "    <tr>\n",
       "      <th>5</th>\n",
       "      <td>B</td>\n",
       "      <td>29</td>\n",
       "      <td>28</td>\n",
       "    </tr>\n",
       "    <tr>\n",
       "      <th>4</th>\n",
       "      <td>A</td>\n",
       "      <td>17</td>\n",
       "      <td>27</td>\n",
       "    </tr>\n",
       "    <tr>\n",
       "      <th>3</th>\n",
       "      <td>C</td>\n",
       "      <td>38</td>\n",
       "      <td>19</td>\n",
       "    </tr>\n",
       "    <tr>\n",
       "      <th>2</th>\n",
       "      <td>C</td>\n",
       "      <td>47</td>\n",
       "      <td>43</td>\n",
       "    </tr>\n",
       "    <tr>\n",
       "      <th>1</th>\n",
       "      <td>B</td>\n",
       "      <td>19</td>\n",
       "      <td>44</td>\n",
       "    </tr>\n",
       "    <tr>\n",
       "      <th>0</th>\n",
       "      <td>C</td>\n",
       "      <td>22</td>\n",
       "      <td>41</td>\n",
       "    </tr>\n",
       "  </tbody>\n",
       "</table>\n",
       "</div>"
      ],
      "text/plain": [
       "  company  salary  age\n",
       "9       C      24   30\n",
       "8       C      33   48\n",
       "7       C      40   29\n",
       "6       C      37   26\n",
       "5       B      29   28\n",
       "4       A      17   27\n",
       "3       C      38   19\n",
       "2       C      47   43\n",
       "1       B      19   44\n",
       "0       C      22   41"
      ]
     },
     "execution_count": 117,
     "metadata": {},
     "output_type": "execute_result"
    }
   ],
   "source": [
    "# 按索引降序排列\n",
    "data.sort_index(ascending=False)"
   ]
  },
  {
   "cell_type": "code",
   "execution_count": 119,
   "id": "8649c916",
   "metadata": {},
   "outputs": [
    {
     "data": {
      "text/html": [
       "<div>\n",
       "<style scoped>\n",
       "    .dataframe tbody tr th:only-of-type {\n",
       "        vertical-align: middle;\n",
       "    }\n",
       "\n",
       "    .dataframe tbody tr th {\n",
       "        vertical-align: top;\n",
       "    }\n",
       "\n",
       "    .dataframe thead th {\n",
       "        text-align: right;\n",
       "    }\n",
       "</style>\n",
       "<table border=\"1\" class=\"dataframe\">\n",
       "  <thead>\n",
       "    <tr style=\"text-align: right;\">\n",
       "      <th></th>\n",
       "      <th>company</th>\n",
       "      <th>salary</th>\n",
       "      <th>age</th>\n",
       "    </tr>\n",
       "  </thead>\n",
       "  <tbody>\n",
       "    <tr>\n",
       "      <th>4</th>\n",
       "      <td>A</td>\n",
       "      <td>17</td>\n",
       "      <td>27</td>\n",
       "    </tr>\n",
       "    <tr>\n",
       "      <th>1</th>\n",
       "      <td>B</td>\n",
       "      <td>19</td>\n",
       "      <td>44</td>\n",
       "    </tr>\n",
       "    <tr>\n",
       "      <th>0</th>\n",
       "      <td>C</td>\n",
       "      <td>22</td>\n",
       "      <td>41</td>\n",
       "    </tr>\n",
       "    <tr>\n",
       "      <th>9</th>\n",
       "      <td>C</td>\n",
       "      <td>24</td>\n",
       "      <td>30</td>\n",
       "    </tr>\n",
       "    <tr>\n",
       "      <th>5</th>\n",
       "      <td>B</td>\n",
       "      <td>29</td>\n",
       "      <td>28</td>\n",
       "    </tr>\n",
       "    <tr>\n",
       "      <th>8</th>\n",
       "      <td>C</td>\n",
       "      <td>33</td>\n",
       "      <td>48</td>\n",
       "    </tr>\n",
       "    <tr>\n",
       "      <th>6</th>\n",
       "      <td>C</td>\n",
       "      <td>37</td>\n",
       "      <td>26</td>\n",
       "    </tr>\n",
       "    <tr>\n",
       "      <th>3</th>\n",
       "      <td>C</td>\n",
       "      <td>38</td>\n",
       "      <td>19</td>\n",
       "    </tr>\n",
       "    <tr>\n",
       "      <th>7</th>\n",
       "      <td>C</td>\n",
       "      <td>40</td>\n",
       "      <td>29</td>\n",
       "    </tr>\n",
       "    <tr>\n",
       "      <th>2</th>\n",
       "      <td>C</td>\n",
       "      <td>47</td>\n",
       "      <td>43</td>\n",
       "    </tr>\n",
       "  </tbody>\n",
       "</table>\n",
       "</div>"
      ],
      "text/plain": [
       "  company  salary  age\n",
       "4       A      17   27\n",
       "1       B      19   44\n",
       "0       C      22   41\n",
       "9       C      24   30\n",
       "5       B      29   28\n",
       "8       C      33   48\n",
       "6       C      37   26\n",
       "3       C      38   19\n",
       "7       C      40   29\n",
       "2       C      47   43"
      ]
     },
     "execution_count": 119,
     "metadata": {},
     "output_type": "execute_result"
    }
   ],
   "source": [
    "data.sort_values(by='salary')"
   ]
  },
  {
   "cell_type": "markdown",
   "id": "603658d3",
   "metadata": {},
   "source": [
    "## 5. Pandas数据处理——盘点那些常用的函数（下）https://zhuanlan.zhihu.com/p/106724730"
   ]
  },
  {
   "cell_type": "code",
   "execution_count": 125,
   "id": "8a6c8bbd",
   "metadata": {
    "scrolled": true
   },
   "outputs": [
    {
     "data": {
      "text/html": [
       "<div>\n",
       "<style scoped>\n",
       "    .dataframe tbody tr th:only-of-type {\n",
       "        vertical-align: middle;\n",
       "    }\n",
       "\n",
       "    .dataframe tbody tr th {\n",
       "        vertical-align: top;\n",
       "    }\n",
       "\n",
       "    .dataframe thead th {\n",
       "        text-align: right;\n",
       "    }\n",
       "</style>\n",
       "<table border=\"1\" class=\"dataframe\">\n",
       "  <thead>\n",
       "    <tr style=\"text-align: right;\">\n",
       "      <th></th>\n",
       "      <th>company</th>\n",
       "      <th>gender</th>\n",
       "      <th>salary</th>\n",
       "      <th>age</th>\n",
       "    </tr>\n",
       "  </thead>\n",
       "  <tbody>\n",
       "    <tr>\n",
       "      <th>0</th>\n",
       "      <td>B</td>\n",
       "      <td>Female</td>\n",
       "      <td>30</td>\n",
       "      <td>40.0</td>\n",
       "    </tr>\n",
       "    <tr>\n",
       "      <th>1</th>\n",
       "      <td>A</td>\n",
       "      <td>Female</td>\n",
       "      <td>36</td>\n",
       "      <td>31.0</td>\n",
       "    </tr>\n",
       "    <tr>\n",
       "      <th>2</th>\n",
       "      <td>B</td>\n",
       "      <td>Female</td>\n",
       "      <td>35</td>\n",
       "      <td>28.0</td>\n",
       "    </tr>\n",
       "    <tr>\n",
       "      <th>3</th>\n",
       "      <td>B</td>\n",
       "      <td>Female</td>\n",
       "      <td>9</td>\n",
       "      <td>18.0</td>\n",
       "    </tr>\n",
       "    <tr>\n",
       "      <th>4</th>\n",
       "      <td>B</td>\n",
       "      <td>Female</td>\n",
       "      <td>16</td>\n",
       "      <td>43.0</td>\n",
       "    </tr>\n",
       "    <tr>\n",
       "      <th>5</th>\n",
       "      <td>A</td>\n",
       "      <td>male</td>\n",
       "      <td>46</td>\n",
       "      <td>22.0</td>\n",
       "    </tr>\n",
       "    <tr>\n",
       "      <th>6</th>\n",
       "      <td>B</td>\n",
       "      <td>Female</td>\n",
       "      <td>15</td>\n",
       "      <td>28.0</td>\n",
       "    </tr>\n",
       "    <tr>\n",
       "      <th>7</th>\n",
       "      <td>B</td>\n",
       "      <td>Female</td>\n",
       "      <td>33</td>\n",
       "      <td>40.0</td>\n",
       "    </tr>\n",
       "    <tr>\n",
       "      <th>8</th>\n",
       "      <td>C</td>\n",
       "      <td>male</td>\n",
       "      <td>19</td>\n",
       "      <td>32.0</td>\n",
       "    </tr>\n",
       "  </tbody>\n",
       "</table>\n",
       "</div>"
      ],
      "text/plain": [
       "  company  gender  salary   age\n",
       "0       B  Female      30  40.0\n",
       "1       A  Female      36  31.0\n",
       "2       B  Female      35  28.0\n",
       "3       B  Female       9  18.0\n",
       "4       B  Female      16  43.0\n",
       "5       A    male      46  22.0\n",
       "6       B  Female      15  28.0\n",
       "7       B  Female      33  40.0\n",
       "8       C    male      19  32.0"
      ]
     },
     "execution_count": 125,
     "metadata": {},
     "output_type": "execute_result"
    }
   ],
   "source": [
    "data = {'company':['B',\"A\",'B','B','B', 'A','B','B','C'], 'gender':['Female','Female','Female','Female','Female','male','Female','Female','male'],\n",
    "        'salary':[30,36,35,9,16,46,15,33,19], 'age':[40.0, 31.0, 28.0, 18.0, 43.0, 22.0, 28.0, 40.0, 32.0]} #使用ndarary创建\n",
    "\n",
    "df = pd.DataFrame(data)\n",
    "\n",
    "df"
   ]
  },
  {
   "cell_type": "markdown",
   "id": "df970289",
   "metadata": {},
   "source": [
    "### 5.1 .astype()"
   ]
  },
  {
   "cell_type": "code",
   "execution_count": 127,
   "id": "5ad889fb",
   "metadata": {
    "scrolled": true
   },
   "outputs": [
    {
     "data": {
      "text/html": [
       "<div>\n",
       "<style scoped>\n",
       "    .dataframe tbody tr th:only-of-type {\n",
       "        vertical-align: middle;\n",
       "    }\n",
       "\n",
       "    .dataframe tbody tr th {\n",
       "        vertical-align: top;\n",
       "    }\n",
       "\n",
       "    .dataframe thead th {\n",
       "        text-align: right;\n",
       "    }\n",
       "</style>\n",
       "<table border=\"1\" class=\"dataframe\">\n",
       "  <thead>\n",
       "    <tr style=\"text-align: right;\">\n",
       "      <th></th>\n",
       "      <th>company</th>\n",
       "      <th>gender</th>\n",
       "      <th>salary</th>\n",
       "      <th>age</th>\n",
       "    </tr>\n",
       "  </thead>\n",
       "  <tbody>\n",
       "    <tr>\n",
       "      <th>0</th>\n",
       "      <td>B</td>\n",
       "      <td>Female</td>\n",
       "      <td>30</td>\n",
       "      <td>40</td>\n",
       "    </tr>\n",
       "    <tr>\n",
       "      <th>1</th>\n",
       "      <td>A</td>\n",
       "      <td>Female</td>\n",
       "      <td>36</td>\n",
       "      <td>31</td>\n",
       "    </tr>\n",
       "    <tr>\n",
       "      <th>2</th>\n",
       "      <td>B</td>\n",
       "      <td>Female</td>\n",
       "      <td>35</td>\n",
       "      <td>28</td>\n",
       "    </tr>\n",
       "    <tr>\n",
       "      <th>3</th>\n",
       "      <td>B</td>\n",
       "      <td>Female</td>\n",
       "      <td>9</td>\n",
       "      <td>18</td>\n",
       "    </tr>\n",
       "    <tr>\n",
       "      <th>4</th>\n",
       "      <td>B</td>\n",
       "      <td>Female</td>\n",
       "      <td>16</td>\n",
       "      <td>43</td>\n",
       "    </tr>\n",
       "    <tr>\n",
       "      <th>5</th>\n",
       "      <td>A</td>\n",
       "      <td>male</td>\n",
       "      <td>46</td>\n",
       "      <td>22</td>\n",
       "    </tr>\n",
       "    <tr>\n",
       "      <th>6</th>\n",
       "      <td>B</td>\n",
       "      <td>Female</td>\n",
       "      <td>15</td>\n",
       "      <td>28</td>\n",
       "    </tr>\n",
       "    <tr>\n",
       "      <th>7</th>\n",
       "      <td>B</td>\n",
       "      <td>Female</td>\n",
       "      <td>33</td>\n",
       "      <td>40</td>\n",
       "    </tr>\n",
       "    <tr>\n",
       "      <th>8</th>\n",
       "      <td>C</td>\n",
       "      <td>male</td>\n",
       "      <td>19</td>\n",
       "      <td>32</td>\n",
       "    </tr>\n",
       "  </tbody>\n",
       "</table>\n",
       "</div>"
      ],
      "text/plain": [
       "  company  gender  salary  age\n",
       "0       B  Female      30   40\n",
       "1       A  Female      36   31\n",
       "2       B  Female      35   28\n",
       "3       B  Female       9   18\n",
       "4       B  Female      16   43\n",
       "5       A    male      46   22\n",
       "6       B  Female      15   28\n",
       "7       B  Female      33   40\n",
       "8       C    male      19   32"
      ]
     },
     "execution_count": 127,
     "metadata": {},
     "output_type": "execute_result"
    }
   ],
   "source": [
    "# 把age字段转为int类型\n",
    "df[\"age\"] = df[\"age\"].astype(int)\n",
    "df"
   ]
  },
  {
   "cell_type": "markdown",
   "id": "23219cdb",
   "metadata": {},
   "source": [
    "## 5.2 .rename()"
   ]
  },
  {
   "cell_type": "markdown",
   "id": "cc21c6d2",
   "metadata": {},
   "source": [
    "将'age'更改为员工编号'number',并作用于原对象"
   ]
  },
  {
   "cell_type": "code",
   "execution_count": 130,
   "id": "b5c8addb",
   "metadata": {},
   "outputs": [
    {
     "data": {
      "text/html": [
       "<div>\n",
       "<style scoped>\n",
       "    .dataframe tbody tr th:only-of-type {\n",
       "        vertical-align: middle;\n",
       "    }\n",
       "\n",
       "    .dataframe tbody tr th {\n",
       "        vertical-align: top;\n",
       "    }\n",
       "\n",
       "    .dataframe thead th {\n",
       "        text-align: right;\n",
       "    }\n",
       "</style>\n",
       "<table border=\"1\" class=\"dataframe\">\n",
       "  <thead>\n",
       "    <tr style=\"text-align: right;\">\n",
       "      <th></th>\n",
       "      <th>company</th>\n",
       "      <th>gender</th>\n",
       "      <th>salary</th>\n",
       "      <th>number</th>\n",
       "    </tr>\n",
       "  </thead>\n",
       "  <tbody>\n",
       "    <tr>\n",
       "      <th>0</th>\n",
       "      <td>B</td>\n",
       "      <td>Female</td>\n",
       "      <td>30</td>\n",
       "      <td>40</td>\n",
       "    </tr>\n",
       "    <tr>\n",
       "      <th>1</th>\n",
       "      <td>A</td>\n",
       "      <td>Female</td>\n",
       "      <td>36</td>\n",
       "      <td>31</td>\n",
       "    </tr>\n",
       "    <tr>\n",
       "      <th>2</th>\n",
       "      <td>B</td>\n",
       "      <td>Female</td>\n",
       "      <td>35</td>\n",
       "      <td>28</td>\n",
       "    </tr>\n",
       "    <tr>\n",
       "      <th>3</th>\n",
       "      <td>B</td>\n",
       "      <td>Female</td>\n",
       "      <td>9</td>\n",
       "      <td>18</td>\n",
       "    </tr>\n",
       "    <tr>\n",
       "      <th>4</th>\n",
       "      <td>B</td>\n",
       "      <td>Female</td>\n",
       "      <td>16</td>\n",
       "      <td>43</td>\n",
       "    </tr>\n",
       "    <tr>\n",
       "      <th>5</th>\n",
       "      <td>A</td>\n",
       "      <td>male</td>\n",
       "      <td>46</td>\n",
       "      <td>22</td>\n",
       "    </tr>\n",
       "    <tr>\n",
       "      <th>6</th>\n",
       "      <td>B</td>\n",
       "      <td>Female</td>\n",
       "      <td>15</td>\n",
       "      <td>28</td>\n",
       "    </tr>\n",
       "    <tr>\n",
       "      <th>7</th>\n",
       "      <td>B</td>\n",
       "      <td>Female</td>\n",
       "      <td>33</td>\n",
       "      <td>40</td>\n",
       "    </tr>\n",
       "    <tr>\n",
       "      <th>8</th>\n",
       "      <td>C</td>\n",
       "      <td>male</td>\n",
       "      <td>19</td>\n",
       "      <td>32</td>\n",
       "    </tr>\n",
       "  </tbody>\n",
       "</table>\n",
       "</div>"
      ],
      "text/plain": [
       "  company  gender  salary  number\n",
       "0       B  Female      30      40\n",
       "1       A  Female      36      31\n",
       "2       B  Female      35      28\n",
       "3       B  Female       9      18\n",
       "4       B  Female      16      43\n",
       "5       A    male      46      22\n",
       "6       B  Female      15      28\n",
       "7       B  Female      33      40\n",
       "8       C    male      19      32"
      ]
     },
     "execution_count": 130,
     "metadata": {},
     "output_type": "execute_result"
    }
   ],
   "source": [
    "df.rename(columns={'age':'number'},inplace=True)\n",
    "df"
   ]
  },
  {
   "cell_type": "markdown",
   "id": "885f78cf",
   "metadata": {},
   "source": [
    "## 5.3 .set_index()"
   ]
  },
  {
   "cell_type": "code",
   "execution_count": 131,
   "id": "bbb6750b",
   "metadata": {},
   "outputs": [
    {
     "data": {
      "text/html": [
       "<div>\n",
       "<style scoped>\n",
       "    .dataframe tbody tr th:only-of-type {\n",
       "        vertical-align: middle;\n",
       "    }\n",
       "\n",
       "    .dataframe tbody tr th {\n",
       "        vertical-align: top;\n",
       "    }\n",
       "\n",
       "    .dataframe thead th {\n",
       "        text-align: right;\n",
       "    }\n",
       "</style>\n",
       "<table border=\"1\" class=\"dataframe\">\n",
       "  <thead>\n",
       "    <tr style=\"text-align: right;\">\n",
       "      <th></th>\n",
       "      <th>company</th>\n",
       "      <th>gender</th>\n",
       "      <th>salary</th>\n",
       "    </tr>\n",
       "    <tr>\n",
       "      <th>number</th>\n",
       "      <th></th>\n",
       "      <th></th>\n",
       "      <th></th>\n",
       "    </tr>\n",
       "  </thead>\n",
       "  <tbody>\n",
       "    <tr>\n",
       "      <th>40</th>\n",
       "      <td>B</td>\n",
       "      <td>Female</td>\n",
       "      <td>30</td>\n",
       "    </tr>\n",
       "    <tr>\n",
       "      <th>31</th>\n",
       "      <td>A</td>\n",
       "      <td>Female</td>\n",
       "      <td>36</td>\n",
       "    </tr>\n",
       "    <tr>\n",
       "      <th>28</th>\n",
       "      <td>B</td>\n",
       "      <td>Female</td>\n",
       "      <td>35</td>\n",
       "    </tr>\n",
       "    <tr>\n",
       "      <th>18</th>\n",
       "      <td>B</td>\n",
       "      <td>Female</td>\n",
       "      <td>9</td>\n",
       "    </tr>\n",
       "    <tr>\n",
       "      <th>43</th>\n",
       "      <td>B</td>\n",
       "      <td>Female</td>\n",
       "      <td>16</td>\n",
       "    </tr>\n",
       "    <tr>\n",
       "      <th>22</th>\n",
       "      <td>A</td>\n",
       "      <td>male</td>\n",
       "      <td>46</td>\n",
       "    </tr>\n",
       "    <tr>\n",
       "      <th>28</th>\n",
       "      <td>B</td>\n",
       "      <td>Female</td>\n",
       "      <td>15</td>\n",
       "    </tr>\n",
       "    <tr>\n",
       "      <th>40</th>\n",
       "      <td>B</td>\n",
       "      <td>Female</td>\n",
       "      <td>33</td>\n",
       "    </tr>\n",
       "    <tr>\n",
       "      <th>32</th>\n",
       "      <td>C</td>\n",
       "      <td>male</td>\n",
       "      <td>19</td>\n",
       "    </tr>\n",
       "  </tbody>\n",
       "</table>\n",
       "</div>"
      ],
      "text/plain": [
       "       company  gender  salary\n",
       "number                        \n",
       "40           B  Female      30\n",
       "31           A  Female      36\n",
       "28           B  Female      35\n",
       "18           B  Female       9\n",
       "43           B  Female      16\n",
       "22           A    male      46\n",
       "28           B  Female      15\n",
       "40           B  Female      33\n",
       "32           C    male      19"
      ]
     },
     "execution_count": 131,
     "metadata": {},
     "output_type": "execute_result"
    }
   ],
   "source": [
    "df.set_index('number',inplace=True)\n",
    "df"
   ]
  },
  {
   "cell_type": "markdown",
   "id": "b690e905",
   "metadata": {},
   "source": [
    "## 5.4 .reset_index()"
   ]
  },
  {
   "cell_type": "markdown",
   "id": "f03f151e",
   "metadata": {},
   "source": [
    "drop = True，重置索引，并把原有的索引丢弃"
   ]
  },
  {
   "cell_type": "code",
   "execution_count": 133,
   "id": "ac0ac206",
   "metadata": {},
   "outputs": [
    {
     "data": {
      "text/html": [
       "<div>\n",
       "<style scoped>\n",
       "    .dataframe tbody tr th:only-of-type {\n",
       "        vertical-align: middle;\n",
       "    }\n",
       "\n",
       "    .dataframe tbody tr th {\n",
       "        vertical-align: top;\n",
       "    }\n",
       "\n",
       "    .dataframe thead th {\n",
       "        text-align: right;\n",
       "    }\n",
       "</style>\n",
       "<table border=\"1\" class=\"dataframe\">\n",
       "  <thead>\n",
       "    <tr style=\"text-align: right;\">\n",
       "      <th></th>\n",
       "      <th>company</th>\n",
       "      <th>gender</th>\n",
       "      <th>salary</th>\n",
       "    </tr>\n",
       "  </thead>\n",
       "  <tbody>\n",
       "    <tr>\n",
       "      <th>0</th>\n",
       "      <td>B</td>\n",
       "      <td>Female</td>\n",
       "      <td>30</td>\n",
       "    </tr>\n",
       "    <tr>\n",
       "      <th>1</th>\n",
       "      <td>A</td>\n",
       "      <td>Female</td>\n",
       "      <td>36</td>\n",
       "    </tr>\n",
       "    <tr>\n",
       "      <th>2</th>\n",
       "      <td>B</td>\n",
       "      <td>Female</td>\n",
       "      <td>35</td>\n",
       "    </tr>\n",
       "    <tr>\n",
       "      <th>3</th>\n",
       "      <td>B</td>\n",
       "      <td>Female</td>\n",
       "      <td>9</td>\n",
       "    </tr>\n",
       "    <tr>\n",
       "      <th>4</th>\n",
       "      <td>B</td>\n",
       "      <td>Female</td>\n",
       "      <td>16</td>\n",
       "    </tr>\n",
       "    <tr>\n",
       "      <th>5</th>\n",
       "      <td>A</td>\n",
       "      <td>male</td>\n",
       "      <td>46</td>\n",
       "    </tr>\n",
       "    <tr>\n",
       "      <th>6</th>\n",
       "      <td>B</td>\n",
       "      <td>Female</td>\n",
       "      <td>15</td>\n",
       "    </tr>\n",
       "    <tr>\n",
       "      <th>7</th>\n",
       "      <td>B</td>\n",
       "      <td>Female</td>\n",
       "      <td>33</td>\n",
       "    </tr>\n",
       "    <tr>\n",
       "      <th>8</th>\n",
       "      <td>C</td>\n",
       "      <td>male</td>\n",
       "      <td>19</td>\n",
       "    </tr>\n",
       "  </tbody>\n",
       "</table>\n",
       "</div>"
      ],
      "text/plain": [
       "  company  gender  salary\n",
       "0       B  Female      30\n",
       "1       A  Female      36\n",
       "2       B  Female      35\n",
       "3       B  Female       9\n",
       "4       B  Female      16\n",
       "5       A    male      46\n",
       "6       B  Female      15\n",
       "7       B  Female      33\n",
       "8       C    male      19"
      ]
     },
     "execution_count": 133,
     "metadata": {},
     "output_type": "execute_result"
    }
   ],
   "source": [
    "df.reset_index(drop=True)"
   ]
  },
  {
   "cell_type": "markdown",
   "id": "70e2e400",
   "metadata": {},
   "source": [
    "## ^^^还有好多"
   ]
  },
  {
   "cell_type": "markdown",
   "id": "77a62e86",
   "metadata": {},
   "source": [
    "## 3. Pandas数据处理——玩转时间序列数据 https://zhuanlan.zhihu.com/p/106675563"
   ]
  },
  {
   "cell_type": "markdown",
   "id": "20d30488",
   "metadata": {},
   "source": [
    "datetime顾名思义就是既有日期date也有时间time，表示一个具体的时间点（时间戳）。timedelta则表示两个时间点之间的差，比如2020-01-01和2020-01-02之间的timedelta即为一天，相信并不难理解。"
   ]
  },
  {
   "cell_type": "markdown",
   "id": "ead3b750",
   "metadata": {},
   "source": [
    "In [5]: data.trade_date.head()\n",
    "\n",
    "Out[5]:\n",
    "\n",
    "0    20190102\n",
    "\n",
    "1    20190103\n",
    "\n",
    "2    20190104\n",
    "\n",
    "3    20190107\n",
    "\n",
    "4    20190108\n",
    "\n",
    "Name: trade_date, dtype: object"
   ]
  },
  {
   "cell_type": "markdown",
   "id": "512f393d",
   "metadata": {},
   "source": [
    "## 3.0 运用pd.to_datetime()，可以将对应的列转换为Pandas中的datetime64类型，便于后期的处理"
   ]
  },
  {
   "cell_type": "markdown",
   "id": "ccdd0a93",
   "metadata": {},
   "source": [
    "In [11]: data[\"trade_date\"] = pd.to_datetime(data.trade_date)\n",
    "\n",
    "In [12]: data.trade_date.head()\n",
    "    \n",
    "Out[12]:\n",
    "    \n",
    "0   2019-01-02\n",
    "\n",
    "1   2019-01-03\n",
    "\n",
    "2   2019-01-04\n",
    "\n",
    "3   2019-01-07\n",
    "\n",
    "4   2019-01-08\n",
    "\n",
    "Name: trade_date, dtype: datetime64[ns]"
   ]
  },
  {
   "cell_type": "markdown",
   "id": "25c2a2af",
   "metadata": {},
   "source": [
    "## 3.1 时间序列的索引"
   ]
  },
  {
   "cell_type": "markdown",
   "id": "092c5641",
   "metadata": {},
   "source": [
    "时间序列中索引和Pandas普通的索引类似，大多时候调用.loc[index,columns]进行相应的索引，直接上代码看看"
   ]
  },
  {
   "cell_type": "markdown",
   "id": "6253db6f",
   "metadata": {},
   "source": [
    "In [20]: data1 = data.set_index(\"trade_date\")\n",
    "\n",
    " 2019年6月的数据\n",
    "\n",
    "In [21]: data1.loc[\"2019-06\"].head()\n",
    "    \n",
    "Out[21]:\n",
    "                close       open       high        low\n",
    "        \n",
    "trade_date\n",
    "\n",
    "2019-06-03  2890.0809  2901.7424  2920.8292  2875.9019\n",
    "\n",
    "2019-06-04  2862.2803  2887.6405  2888.3861  2851.9728\n",
    "\n",
    "2019-06-05  2861.4181  2882.9369  2888.7676  2858.5719\n",
    "\n",
    "2019-06-06  2827.7978  2862.3327  2862.3327  2822.1853\n",
    "\n",
    "2019-06-10  2852.1302  2833.0145  2861.1310  2824.3554\n",
    "\n",
    " 2019年6月-2019年8月的数据\n",
    "\n",
    "In [22]: data1.loc[\"2019-06\":\"2019-08\"].tail()\n",
    "    \n",
    "Out[22]:\n",
    "                close       open       high        low\n",
    "        \n",
    "trade_date\n",
    "\n",
    "2019-08-26  2863.5673  2851.0158  2870.4939  2849.2381\n",
    "\n",
    "2019-08-27  2902.1932  2879.5154  2919.6444  2879.4060\n",
    "\n",
    "2019-08-28  2893.7564  2901.6267  2905.4354  2887.0115\n",
    "\n",
    "2019-08-29  2890.9192  2895.9991  2898.6046  2878.5878\n",
    "\n",
    "2019-08-30  2886.2365  2907.3825  2914.5767  2874.1028"
   ]
  },
  {
   "cell_type": "markdown",
   "id": "99652570",
   "metadata": {},
   "source": [
    "## 3.2 提取出时间/日期的属性"
   ]
  },
  {
   "cell_type": "markdown",
   "id": "21b2170c",
   "metadata": {},
   "source": [
    "当数据中的时间列（本数据中为trade_date列）已经转换为datetime64格式时，仅需调用.dt接口，即可快速求得想要的结果，下表中列出了.dt接口所提供的常见属性："
   ]
  },
  {
   "cell_type": "markdown",
   "id": "b9551779",
   "metadata": {},
   "source": [
    "具体演示一下（下面仅显示2019-01-02的信息）：\n",
    "\n",
    "一年中的第几天\n",
    "\n",
    "In [13]: data.trade_date.dt.dayofweek[0]\n",
    "    \n",
    "Out[13]: 2\n",
    "\n",
    "返回对应日期\n",
    "\n",
    "In [14]: data.trade_date.dt.date[0]\n",
    "    \n",
    "Out[14]: datetime.date(2019, 1, 2)\n",
    "\n",
    "返回周数\n",
    "\n",
    "In [15]: data.trade_date.dt.weekofyear[0]\n",
    "    \n",
    "Out[15]: 1\n",
    "\n",
    "返回周几\n",
    "\n",
    "In [16]: data.trade_date.dt.weekday_name[0]\n",
    "    \n",
    "Out[16]: 'Wednesday'"
   ]
  },
  {
   "cell_type": "markdown",
   "id": "36b4984d",
   "metadata": {},
   "source": [
    "## 3.3 resample"
   ]
  },
  {
   "cell_type": "markdown",
   "id": "eb179603",
   "metadata": {},
   "source": [
    "resample翻译过来是重采样的意思，官方文档中是这么描述resample的\n",
    "\n",
    "resample() is a time-based groupby\n",
    "翻译过来就是基于时间的groupby操作，我个人认为这是Pandas时间序列处理中最重要的功能，也是本文的重中之重。"
   ]
  },
  {
   "cell_type": "markdown",
   "id": "4aec8e77",
   "metadata": {},
   "source": [
    "### downsampling"
   ]
  },
  {
   "cell_type": "markdown",
   "id": "8472df91",
   "metadata": {},
   "source": [
    "以一个实例来引入，我们使用的数据是上证指数2019年的日级别数据，如果现在想求每季度的平均收盘价，应该怎么操作呢？\n",
    "\n",
    "从日级别数据求季度级别数据，是从高频到低频的聚合操作，其实就类似于groupby按季度进行操作，用resample来写是这样子"
   ]
  },
  {
   "cell_type": "markdown",
   "id": "023236bb",
   "metadata": {},
   "source": [
    "In [32]: data.resample('Q',on='trade_date')[\"close\"].mean()\n",
    "    \n",
    "Out[32]:\n",
    "    \n",
    "trade_date\n",
    "\n",
    "2019-03-31    2792.941622\n",
    "\n",
    "2019-06-30    3010.354672\n",
    "\n",
    "2019-09-30    2923.136748\n",
    "\n",
    "2019-12-31    2946.752270\n",
    "\n",
    "Freq: Q-DEC, Name: close, dtype: float64\n",
    "            \n",
    "            "
   ]
  },
  {
   "cell_type": "markdown",
   "id": "1d44ce6a",
   "metadata": {},
   "source": [
    "其中'Q'是以季度为频率进行采样，on指定datetime列（如果索引为Datetimeindex，则on不需要指定，默认依据索引进行降采样）"
   ]
  },
  {
   "cell_type": "markdown",
   "id": "de0ee385",
   "metadata": {},
   "source": [
    "### upsampling"
   ]
  },
  {
   "cell_type": "markdown",
   "id": "ab6335b6",
   "metadata": {},
   "source": [
    "当采样的频率低于原有的频率时，即为升采样。升采样是对原有的时间粒度更为细粒度的划分，所以升采样时会产生缺失值。下面取2019-01-02至2019-01-03的数据按照6H的频率演示一下："
   ]
  },
  {
   "cell_type": "markdown",
   "id": "31d7a46d",
   "metadata": {},
   "source": [
    "In [24]: example\n",
    "    \n",
    "Out[24]:\n",
    "                close\n",
    "        \n",
    "trade_date\n",
    "\n",
    "2019-01-02  2465.2910\n",
    "\n",
    "2019-01-03  2464.3628\n",
    "\n",
    "In [25]: example.resample('6H').asfreq()\n",
    "    \n",
    "Out[25]:\n",
    "                         close\n",
    "trade_date\n",
    "2019-01-02 00:00:00  2465.2910\n",
    "        \n",
    "2019-01-02 06:00:00        NaN\n",
    "        \n",
    "2019-01-02 12:00:00        NaN\n",
    "        \n",
    "2019-01-02 18:00:00        NaN\n",
    "        \n",
    "2019-01-03 00:00:00  2464.3628\n"
   ]
  },
  {
   "cell_type": "markdown",
   "id": "8304a5e5",
   "metadata": {},
   "source": [
    "对resample后的结果应用.asfreq()会返回新频率下的结果。可以看到升采样后产生了缺失值。如果想要填充缺失值可以采用向后填充.bfill()或向前填充.ffill()的方式：\n",
    "\n"
   ]
  },
  {
   "cell_type": "markdown",
   "id": "3b4f215b",
   "metadata": {},
   "source": [
    " 向前填充，缺失值取2465.2910进行填充\n",
    "    \n",
    "In [29]: example.resample('6H').ffill()\n",
    "    \n",
    "Out[29]:\n",
    "                         close\n",
    "        \n",
    "trade_date\n",
    "\n",
    "2019-01-02 00:00:00  2465.2910\n",
    "        \n",
    "2019-01-02 06:00:00  2465.2910\n",
    "        \n",
    "2019-01-02 12:00:00  2465.2910\n",
    "        \n",
    "2019-01-02 18:00:00  2465.2910\n",
    "        \n",
    "2019-01-03 00:00:00  2464.3628\n",
    "\n",
    " 向后填充，缺失值取2464.3628进行填充\n",
    "\n",
    "In [30]: example.resample('6H').bfill()\n",
    "    \n",
    "Out[30]:\n",
    "                         close\n",
    "        \n",
    "trade_date\n",
    "\n",
    "2019-01-02 00:00:00  2465.2910\n",
    "        \n",
    "2019-01-02 06:00:00  2464.3628\n",
    "        \n",
    "2019-01-02 12:00:00  2464.3628\n",
    "        \n",
    "2019-01-02 18:00:00  2464.3628\n",
    "        \n",
    "2019-01-03 00:00:00  2464.3628"
   ]
  },
  {
   "cell_type": "markdown",
   "id": "b3c67b20",
   "metadata": {},
   "source": [
    "## 6. 天秀！Pandas还能用来写爬虫？https://zhuanlan.zhihu.com/p/122361747"
   ]
  },
  {
   "cell_type": "markdown",
   "id": "b4b7b637",
   "metadata": {},
   "source": [
    "谈及Pandas的read.xxx系列的函数，大家的第一反应会想到比较常用的pd.read_csv()和pd.read_excel()，大多数人估计没用过pd.read_html()这个函数。"
   ]
  },
  {
   "cell_type": "markdown",
   "id": "c6cd3d38",
   "metadata": {},
   "source": [
    "## 7. 提高数据的颜值！一起看看Pandas中的那些Style https://zhuanlan.zhihu.com/p/126223075\n",
    "\n",
    "\n"
   ]
  },
  {
   "cell_type": "markdown",
   "id": "e190ae01",
   "metadata": {},
   "source": [
    "## 8. 提速百倍的Pandas性能优化方法，让你的Pandas飞起来！https://zhuanlan.zhihu.com/p/97012199"
   ]
  }
 ],
 "metadata": {
  "kernelspec": {
   "display_name": "Python 3",
   "language": "python",
   "name": "python3"
  },
  "language_info": {
   "codemirror_mode": {
    "name": "ipython",
    "version": 3
   },
   "file_extension": ".py",
   "mimetype": "text/x-python",
   "name": "python",
   "nbconvert_exporter": "python",
   "pygments_lexer": "ipython3",
   "version": "3.8.5"
  }
 },
 "nbformat": 4,
 "nbformat_minor": 5
}
